{
  "cells": [
    {
      "cell_type": "markdown",
      "metadata": {
        "id": "view-in-github",
        "colab_type": "text"
      },
      "source": [
        "<a href=\"https://colab.research.google.com/github/Priyali2000/Q-Commerce-Customer-Retention-Analysis/blob/main/01_Quick_Commerce_Customer_Retention_Analysis.ipynb\" target=\"_parent\"><img src=\"https://colab.research.google.com/assets/colab-badge.svg\" alt=\"Open In Colab\"/></a>"
      ]
    },
    {
      "cell_type": "code",
      "execution_count": 1,
      "metadata": {
        "colab": {
          "base_uri": "https://localhost:8080/"
        },
        "collapsed": true,
        "id": "wG4fzvxCJj8d",
        "outputId": "1e7582f3-07f9-4279-d4cc-7f91cde3bd31"
      },
      "outputs": [
        {
          "output_type": "stream",
          "name": "stdout",
          "text": [
            "Libraries imported successfully!\n",
            "Ready for Quick Commerce Customer Retention Analysis\n"
          ]
        }
      ],
      "source": [
        "# Objective - Quick Commerce Customer Retention Analysis\n",
        "# Project: End-to-End Customer Analytics Platform\n",
        "# Dataset: E-Commerce Analytics (Swiggy, Zomato, Blinkit) (Kaggle)\n",
        "\n",
        "#libraries\n",
        "import pandas as pd\n",
        "import numpy as np\n",
        "import matplotlib.pyplot as plt\n",
        "import seaborn as sns\n",
        "from datetime import datetime, timedelta\n",
        "import warnings\n",
        "warnings.filterwarnings('ignore')\n",
        "\n",
        "#visualization\n",
        "plt.style.use('default')\n",
        "sns.set_palette(\"husl\")\n",
        "\n",
        "print(\"Libraries imported successfully!\")\n",
        "print(\"Ready for Quick Commerce Customer Retention Analysis\")\n"
      ]
    },
    {
      "cell_type": "code",
      "execution_count": 2,
      "metadata": {
        "colab": {
          "base_uri": "https://localhost:8080/"
        },
        "collapsed": true,
        "id": "LdOAPKv4N0-A",
        "outputId": "3202e57b-0bbe-4c9c-ea28-a98f7d6320c8"
      },
      "outputs": [
        {
          "output_type": "stream",
          "name": "stdout",
          "text": [
            "Requirement already satisfied: Kaggle in /usr/local/lib/python3.12/dist-packages (1.7.4.5)\n",
            "Requirement already satisfied: bleach in /usr/local/lib/python3.12/dist-packages (from Kaggle) (6.2.0)\n",
            "Requirement already satisfied: certifi>=14.05.14 in /usr/local/lib/python3.12/dist-packages (from Kaggle) (2025.8.3)\n",
            "Requirement already satisfied: charset-normalizer in /usr/local/lib/python3.12/dist-packages (from Kaggle) (3.4.3)\n",
            "Requirement already satisfied: idna in /usr/local/lib/python3.12/dist-packages (from Kaggle) (3.10)\n",
            "Requirement already satisfied: protobuf in /usr/local/lib/python3.12/dist-packages (from Kaggle) (5.29.5)\n",
            "Requirement already satisfied: python-dateutil>=2.5.3 in /usr/local/lib/python3.12/dist-packages (from Kaggle) (2.9.0.post0)\n",
            "Requirement already satisfied: python-slugify in /usr/local/lib/python3.12/dist-packages (from Kaggle) (8.0.4)\n",
            "Requirement already satisfied: requests in /usr/local/lib/python3.12/dist-packages (from Kaggle) (2.32.4)\n",
            "Requirement already satisfied: setuptools>=21.0.0 in /usr/local/lib/python3.12/dist-packages (from Kaggle) (75.2.0)\n",
            "Requirement already satisfied: six>=1.10 in /usr/local/lib/python3.12/dist-packages (from Kaggle) (1.17.0)\n",
            "Requirement already satisfied: text-unidecode in /usr/local/lib/python3.12/dist-packages (from Kaggle) (1.3)\n",
            "Requirement already satisfied: tqdm in /usr/local/lib/python3.12/dist-packages (from Kaggle) (4.67.1)\n",
            "Requirement already satisfied: urllib3>=1.15.1 in /usr/local/lib/python3.12/dist-packages (from Kaggle) (2.5.0)\n",
            "Requirement already satisfied: webencodings in /usr/local/lib/python3.12/dist-packages (from Kaggle) (0.5.1)\n"
          ]
        }
      ],
      "source": [
        "!pip install Kaggle"
      ]
    },
    {
      "cell_type": "code",
      "execution_count": 3,
      "metadata": {
        "colab": {
          "base_uri": "https://localhost:8080/"
        },
        "id": "lcHMdmyMicW5",
        "outputId": "8e972194-b2f5-4fd3-8e05-d70afd223307"
      },
      "outputs": [
        {
          "output_type": "stream",
          "name": "stdout",
          "text": [
            "Drive already mounted at /content/drive; to attempt to forcibly remount, call drive.mount(\"/content/drive\", force_remount=True).\n"
          ]
        }
      ],
      "source": [
        "from google.colab import drive\n",
        "drive.mount('/content/drive')"
      ]
    },
    {
      "cell_type": "code",
      "execution_count": 4,
      "metadata": {
        "id": "bX0vR6IpifQx"
      },
      "outputs": [],
      "source": [
        "!mkdir -p ~/.kaggle\n",
        "!cp /content/drive/MyDrive/.kaggle/kaggle.json ~/.kaggle/\n",
        "!chmod 600 ~/.kaggle/kaggle.json"
      ]
    },
    {
      "cell_type": "code",
      "execution_count": 5,
      "metadata": {
        "id": "r9aVYi8EiC6Z",
        "colab": {
          "base_uri": "https://localhost:8080/"
        },
        "outputId": "4cd8d26c-2b54-4ed0-8b39-90fc6b3bd646"
      },
      "outputs": [
        {
          "output_type": "stream",
          "name": "stdout",
          "text": [
            "Kaggle authentication successful!\n"
          ]
        }
      ],
      "source": [
        "from kaggle.api.kaggle_api_extended import KaggleApi\n",
        "\n",
        "api = KaggleApi()\n",
        "api.authenticate()\n",
        "print(\"Kaggle authentication successful!\")"
      ]
    },
    {
      "cell_type": "code",
      "execution_count": 6,
      "metadata": {
        "id": "ffGWpiJai7hJ",
        "colab": {
          "base_uri": "https://localhost:8080/"
        },
        "outputId": "a22a71e5-a298-4c07-dfeb-a830e4f00513"
      },
      "outputs": [
        {
          "output_type": "stream",
          "name": "stdout",
          "text": [
            "Dataset URL: https://www.kaggle.com/datasets/logiccraftbyhimanshi/e-commerce-analytics-swiggy-zomato-blinkit\n",
            "Dataset downloaded successfully!\n",
            "total 9132\n",
            "drwxr-xr-x 2 root root    4096 Aug 31 08:33 .\n",
            "drwxr-xr-x 1 root root    4096 Aug 31 08:33 ..\n",
            "-rw-r--r-- 1 root root 9340073 Aug 31 08:33 Ecommerce_Delivery_Analytics_New.csv\n"
          ]
        }
      ],
      "source": [
        "dataset_name = \"logiccraftbyhimanshi/e-commerce-analytics-swiggy-zomato-blinkit\"\n",
        "\n",
        "api.dataset_download_files(dataset_name, path='./data', unzip=True)\n",
        "\n",
        "print(\"Dataset downloaded successfully!\")\n",
        "!ls -la data/\n"
      ]
    },
    {
      "cell_type": "code",
      "execution_count": 7,
      "metadata": {
        "collapsed": true,
        "id": "EbFPQ-K8U56V",
        "colab": {
          "base_uri": "https://localhost:8080/",
          "height": 275
        },
        "outputId": "fbfde0e9-2878-4f38-cc59-80d449257b1a"
      },
      "outputs": [
        {
          "output_type": "stream",
          "name": "stdout",
          "text": [
            "Dataset Shape: (100000, 11)\n",
            "Columns: ['Order ID', 'Customer ID', 'Platform', 'Order Date & Time', 'Delivery Time (Minutes)', 'Product Category', 'Order Value (INR)', 'Customer Feedback', 'Service Rating', 'Delivery Delay', 'Refund Requested']\n",
            "\n",
            " First 5 rows:\n"
          ]
        },
        {
          "output_type": "execute_result",
          "data": {
            "text/plain": [
              "    Order ID Customer ID Platform Order Date & Time  Delivery Time (Minutes)  \\\n",
              "0  ORD000001    CUST2824  JioMart           19:29.5                       30   \n",
              "1  ORD000002    CUST1409  Blinkit           54:29.5                       16   \n",
              "2  ORD000003    CUST5506  JioMart           21:29.5                       25   \n",
              "3  ORD000004    CUST5012  JioMart           19:29.5                       42   \n",
              "4  ORD000005    CUST4657  Blinkit           49:29.5                       30   \n",
              "\n",
              "      Product Category  Order Value (INR)              Customer Feedback  \\\n",
              "0  Fruits & Vegetables                382  Fast delivery, great service!   \n",
              "1                Dairy                279            Quick and reliable!   \n",
              "2            Beverages                599      Items missing from order.   \n",
              "3            Beverages                946      Items missing from order.   \n",
              "4            Beverages                334  Fast delivery, great service!   \n",
              "\n",
              "   Service Rating Delivery Delay Refund Requested  \n",
              "0               5             No               No  \n",
              "1               5             No               No  \n",
              "2               2             No              Yes  \n",
              "3               2            Yes              Yes  \n",
              "4               5             No               No  "
            ],
            "text/html": [
              "\n",
              "  <div id=\"df-26694a9f-fc78-4c23-9bf8-493b4806dce0\" class=\"colab-df-container\">\n",
              "    <div>\n",
              "<style scoped>\n",
              "    .dataframe tbody tr th:only-of-type {\n",
              "        vertical-align: middle;\n",
              "    }\n",
              "\n",
              "    .dataframe tbody tr th {\n",
              "        vertical-align: top;\n",
              "    }\n",
              "\n",
              "    .dataframe thead th {\n",
              "        text-align: right;\n",
              "    }\n",
              "</style>\n",
              "<table border=\"1\" class=\"dataframe\">\n",
              "  <thead>\n",
              "    <tr style=\"text-align: right;\">\n",
              "      <th></th>\n",
              "      <th>Order ID</th>\n",
              "      <th>Customer ID</th>\n",
              "      <th>Platform</th>\n",
              "      <th>Order Date &amp; Time</th>\n",
              "      <th>Delivery Time (Minutes)</th>\n",
              "      <th>Product Category</th>\n",
              "      <th>Order Value (INR)</th>\n",
              "      <th>Customer Feedback</th>\n",
              "      <th>Service Rating</th>\n",
              "      <th>Delivery Delay</th>\n",
              "      <th>Refund Requested</th>\n",
              "    </tr>\n",
              "  </thead>\n",
              "  <tbody>\n",
              "    <tr>\n",
              "      <th>0</th>\n",
              "      <td>ORD000001</td>\n",
              "      <td>CUST2824</td>\n",
              "      <td>JioMart</td>\n",
              "      <td>19:29.5</td>\n",
              "      <td>30</td>\n",
              "      <td>Fruits &amp; Vegetables</td>\n",
              "      <td>382</td>\n",
              "      <td>Fast delivery, great service!</td>\n",
              "      <td>5</td>\n",
              "      <td>No</td>\n",
              "      <td>No</td>\n",
              "    </tr>\n",
              "    <tr>\n",
              "      <th>1</th>\n",
              "      <td>ORD000002</td>\n",
              "      <td>CUST1409</td>\n",
              "      <td>Blinkit</td>\n",
              "      <td>54:29.5</td>\n",
              "      <td>16</td>\n",
              "      <td>Dairy</td>\n",
              "      <td>279</td>\n",
              "      <td>Quick and reliable!</td>\n",
              "      <td>5</td>\n",
              "      <td>No</td>\n",
              "      <td>No</td>\n",
              "    </tr>\n",
              "    <tr>\n",
              "      <th>2</th>\n",
              "      <td>ORD000003</td>\n",
              "      <td>CUST5506</td>\n",
              "      <td>JioMart</td>\n",
              "      <td>21:29.5</td>\n",
              "      <td>25</td>\n",
              "      <td>Beverages</td>\n",
              "      <td>599</td>\n",
              "      <td>Items missing from order.</td>\n",
              "      <td>2</td>\n",
              "      <td>No</td>\n",
              "      <td>Yes</td>\n",
              "    </tr>\n",
              "    <tr>\n",
              "      <th>3</th>\n",
              "      <td>ORD000004</td>\n",
              "      <td>CUST5012</td>\n",
              "      <td>JioMart</td>\n",
              "      <td>19:29.5</td>\n",
              "      <td>42</td>\n",
              "      <td>Beverages</td>\n",
              "      <td>946</td>\n",
              "      <td>Items missing from order.</td>\n",
              "      <td>2</td>\n",
              "      <td>Yes</td>\n",
              "      <td>Yes</td>\n",
              "    </tr>\n",
              "    <tr>\n",
              "      <th>4</th>\n",
              "      <td>ORD000005</td>\n",
              "      <td>CUST4657</td>\n",
              "      <td>Blinkit</td>\n",
              "      <td>49:29.5</td>\n",
              "      <td>30</td>\n",
              "      <td>Beverages</td>\n",
              "      <td>334</td>\n",
              "      <td>Fast delivery, great service!</td>\n",
              "      <td>5</td>\n",
              "      <td>No</td>\n",
              "      <td>No</td>\n",
              "    </tr>\n",
              "  </tbody>\n",
              "</table>\n",
              "</div>\n",
              "    <div class=\"colab-df-buttons\">\n",
              "\n",
              "  <div class=\"colab-df-container\">\n",
              "    <button class=\"colab-df-convert\" onclick=\"convertToInteractive('df-26694a9f-fc78-4c23-9bf8-493b4806dce0')\"\n",
              "            title=\"Convert this dataframe to an interactive table.\"\n",
              "            style=\"display:none;\">\n",
              "\n",
              "  <svg xmlns=\"http://www.w3.org/2000/svg\" height=\"24px\" viewBox=\"0 -960 960 960\">\n",
              "    <path d=\"M120-120v-720h720v720H120Zm60-500h600v-160H180v160Zm220 220h160v-160H400v160Zm0 220h160v-160H400v160ZM180-400h160v-160H180v160Zm440 0h160v-160H620v160ZM180-180h160v-160H180v160Zm440 0h160v-160H620v160Z\"/>\n",
              "  </svg>\n",
              "    </button>\n",
              "\n",
              "  <style>\n",
              "    .colab-df-container {\n",
              "      display:flex;\n",
              "      gap: 12px;\n",
              "    }\n",
              "\n",
              "    .colab-df-convert {\n",
              "      background-color: #E8F0FE;\n",
              "      border: none;\n",
              "      border-radius: 50%;\n",
              "      cursor: pointer;\n",
              "      display: none;\n",
              "      fill: #1967D2;\n",
              "      height: 32px;\n",
              "      padding: 0 0 0 0;\n",
              "      width: 32px;\n",
              "    }\n",
              "\n",
              "    .colab-df-convert:hover {\n",
              "      background-color: #E2EBFA;\n",
              "      box-shadow: 0px 1px 2px rgba(60, 64, 67, 0.3), 0px 1px 3px 1px rgba(60, 64, 67, 0.15);\n",
              "      fill: #174EA6;\n",
              "    }\n",
              "\n",
              "    .colab-df-buttons div {\n",
              "      margin-bottom: 4px;\n",
              "    }\n",
              "\n",
              "    [theme=dark] .colab-df-convert {\n",
              "      background-color: #3B4455;\n",
              "      fill: #D2E3FC;\n",
              "    }\n",
              "\n",
              "    [theme=dark] .colab-df-convert:hover {\n",
              "      background-color: #434B5C;\n",
              "      box-shadow: 0px 1px 3px 1px rgba(0, 0, 0, 0.15);\n",
              "      filter: drop-shadow(0px 1px 2px rgba(0, 0, 0, 0.3));\n",
              "      fill: #FFFFFF;\n",
              "    }\n",
              "  </style>\n",
              "\n",
              "    <script>\n",
              "      const buttonEl =\n",
              "        document.querySelector('#df-26694a9f-fc78-4c23-9bf8-493b4806dce0 button.colab-df-convert');\n",
              "      buttonEl.style.display =\n",
              "        google.colab.kernel.accessAllowed ? 'block' : 'none';\n",
              "\n",
              "      async function convertToInteractive(key) {\n",
              "        const element = document.querySelector('#df-26694a9f-fc78-4c23-9bf8-493b4806dce0');\n",
              "        const dataTable =\n",
              "          await google.colab.kernel.invokeFunction('convertToInteractive',\n",
              "                                                    [key], {});\n",
              "        if (!dataTable) return;\n",
              "\n",
              "        const docLinkHtml = 'Like what you see? Visit the ' +\n",
              "          '<a target=\"_blank\" href=https://colab.research.google.com/notebooks/data_table.ipynb>data table notebook</a>'\n",
              "          + ' to learn more about interactive tables.';\n",
              "        element.innerHTML = '';\n",
              "        dataTable['output_type'] = 'display_data';\n",
              "        await google.colab.output.renderOutput(dataTable, element);\n",
              "        const docLink = document.createElement('div');\n",
              "        docLink.innerHTML = docLinkHtml;\n",
              "        element.appendChild(docLink);\n",
              "      }\n",
              "    </script>\n",
              "  </div>\n",
              "\n",
              "\n",
              "    <div id=\"df-2e57fa13-d20f-465a-9e58-c63ce22da0d6\">\n",
              "      <button class=\"colab-df-quickchart\" onclick=\"quickchart('df-2e57fa13-d20f-465a-9e58-c63ce22da0d6')\"\n",
              "                title=\"Suggest charts\"\n",
              "                style=\"display:none;\">\n",
              "\n",
              "<svg xmlns=\"http://www.w3.org/2000/svg\" height=\"24px\"viewBox=\"0 0 24 24\"\n",
              "     width=\"24px\">\n",
              "    <g>\n",
              "        <path d=\"M19 3H5c-1.1 0-2 .9-2 2v14c0 1.1.9 2 2 2h14c1.1 0 2-.9 2-2V5c0-1.1-.9-2-2-2zM9 17H7v-7h2v7zm4 0h-2V7h2v10zm4 0h-2v-4h2v4z\"/>\n",
              "    </g>\n",
              "</svg>\n",
              "      </button>\n",
              "\n",
              "<style>\n",
              "  .colab-df-quickchart {\n",
              "      --bg-color: #E8F0FE;\n",
              "      --fill-color: #1967D2;\n",
              "      --hover-bg-color: #E2EBFA;\n",
              "      --hover-fill-color: #174EA6;\n",
              "      --disabled-fill-color: #AAA;\n",
              "      --disabled-bg-color: #DDD;\n",
              "  }\n",
              "\n",
              "  [theme=dark] .colab-df-quickchart {\n",
              "      --bg-color: #3B4455;\n",
              "      --fill-color: #D2E3FC;\n",
              "      --hover-bg-color: #434B5C;\n",
              "      --hover-fill-color: #FFFFFF;\n",
              "      --disabled-bg-color: #3B4455;\n",
              "      --disabled-fill-color: #666;\n",
              "  }\n",
              "\n",
              "  .colab-df-quickchart {\n",
              "    background-color: var(--bg-color);\n",
              "    border: none;\n",
              "    border-radius: 50%;\n",
              "    cursor: pointer;\n",
              "    display: none;\n",
              "    fill: var(--fill-color);\n",
              "    height: 32px;\n",
              "    padding: 0;\n",
              "    width: 32px;\n",
              "  }\n",
              "\n",
              "  .colab-df-quickchart:hover {\n",
              "    background-color: var(--hover-bg-color);\n",
              "    box-shadow: 0 1px 2px rgba(60, 64, 67, 0.3), 0 1px 3px 1px rgba(60, 64, 67, 0.15);\n",
              "    fill: var(--button-hover-fill-color);\n",
              "  }\n",
              "\n",
              "  .colab-df-quickchart-complete:disabled,\n",
              "  .colab-df-quickchart-complete:disabled:hover {\n",
              "    background-color: var(--disabled-bg-color);\n",
              "    fill: var(--disabled-fill-color);\n",
              "    box-shadow: none;\n",
              "  }\n",
              "\n",
              "  .colab-df-spinner {\n",
              "    border: 2px solid var(--fill-color);\n",
              "    border-color: transparent;\n",
              "    border-bottom-color: var(--fill-color);\n",
              "    animation:\n",
              "      spin 1s steps(1) infinite;\n",
              "  }\n",
              "\n",
              "  @keyframes spin {\n",
              "    0% {\n",
              "      border-color: transparent;\n",
              "      border-bottom-color: var(--fill-color);\n",
              "      border-left-color: var(--fill-color);\n",
              "    }\n",
              "    20% {\n",
              "      border-color: transparent;\n",
              "      border-left-color: var(--fill-color);\n",
              "      border-top-color: var(--fill-color);\n",
              "    }\n",
              "    30% {\n",
              "      border-color: transparent;\n",
              "      border-left-color: var(--fill-color);\n",
              "      border-top-color: var(--fill-color);\n",
              "      border-right-color: var(--fill-color);\n",
              "    }\n",
              "    40% {\n",
              "      border-color: transparent;\n",
              "      border-right-color: var(--fill-color);\n",
              "      border-top-color: var(--fill-color);\n",
              "    }\n",
              "    60% {\n",
              "      border-color: transparent;\n",
              "      border-right-color: var(--fill-color);\n",
              "    }\n",
              "    80% {\n",
              "      border-color: transparent;\n",
              "      border-right-color: var(--fill-color);\n",
              "      border-bottom-color: var(--fill-color);\n",
              "    }\n",
              "    90% {\n",
              "      border-color: transparent;\n",
              "      border-bottom-color: var(--fill-color);\n",
              "    }\n",
              "  }\n",
              "</style>\n",
              "\n",
              "      <script>\n",
              "        async function quickchart(key) {\n",
              "          const quickchartButtonEl =\n",
              "            document.querySelector('#' + key + ' button');\n",
              "          quickchartButtonEl.disabled = true;  // To prevent multiple clicks.\n",
              "          quickchartButtonEl.classList.add('colab-df-spinner');\n",
              "          try {\n",
              "            const charts = await google.colab.kernel.invokeFunction(\n",
              "                'suggestCharts', [key], {});\n",
              "          } catch (error) {\n",
              "            console.error('Error during call to suggestCharts:', error);\n",
              "          }\n",
              "          quickchartButtonEl.classList.remove('colab-df-spinner');\n",
              "          quickchartButtonEl.classList.add('colab-df-quickchart-complete');\n",
              "        }\n",
              "        (() => {\n",
              "          let quickchartButtonEl =\n",
              "            document.querySelector('#df-2e57fa13-d20f-465a-9e58-c63ce22da0d6 button');\n",
              "          quickchartButtonEl.style.display =\n",
              "            google.colab.kernel.accessAllowed ? 'block' : 'none';\n",
              "        })();\n",
              "      </script>\n",
              "    </div>\n",
              "\n",
              "    </div>\n",
              "  </div>\n"
            ],
            "application/vnd.google.colaboratory.intrinsic+json": {
              "type": "dataframe",
              "variable_name": "df",
              "summary": "{\n  \"name\": \"df\",\n  \"rows\": 100000,\n  \"fields\": [\n    {\n      \"column\": \"Order ID\",\n      \"properties\": {\n        \"dtype\": \"string\",\n        \"num_unique_values\": 100000,\n        \"samples\": [\n          \"ORD075722\",\n          \"ORD080185\",\n          \"ORD019865\"\n        ],\n        \"semantic_type\": \"\",\n        \"description\": \"\"\n      }\n    },\n    {\n      \"column\": \"Customer ID\",\n      \"properties\": {\n        \"dtype\": \"category\",\n        \"num_unique_values\": 9000,\n        \"samples\": [\n          \"CUST6734\",\n          \"CUST6105\",\n          \"CUST5941\"\n        ],\n        \"semantic_type\": \"\",\n        \"description\": \"\"\n      }\n    },\n    {\n      \"column\": \"Platform\",\n      \"properties\": {\n        \"dtype\": \"category\",\n        \"num_unique_values\": 3,\n        \"samples\": [\n          \"JioMart\",\n          \"Blinkit\",\n          \"Swiggy Instamart\"\n        ],\n        \"semantic_type\": \"\",\n        \"description\": \"\"\n      }\n    },\n    {\n      \"column\": \"Order Date & Time\",\n      \"properties\": {\n        \"dtype\": \"category\",\n        \"num_unique_values\": 60,\n        \"samples\": [\n          \"19:29.5\",\n          \"22:29.5\",\n          \"16:29.5\"\n        ],\n        \"semantic_type\": \"\",\n        \"description\": \"\"\n      }\n    },\n    {\n      \"column\": \"Delivery Time (Minutes)\",\n      \"properties\": {\n        \"dtype\": \"number\",\n        \"std\": 9,\n        \"min\": 5,\n        \"max\": 76,\n        \"num_unique_values\": 69,\n        \"samples\": [\n          24,\n          30,\n          6\n        ],\n        \"semantic_type\": \"\",\n        \"description\": \"\"\n      }\n    },\n    {\n      \"column\": \"Product Category\",\n      \"properties\": {\n        \"dtype\": \"category\",\n        \"num_unique_values\": 6,\n        \"samples\": [\n          \"Fruits & Vegetables\",\n          \"Dairy\",\n          \"Snacks\"\n        ],\n        \"semantic_type\": \"\",\n        \"description\": \"\"\n      }\n    },\n    {\n      \"column\": \"Order Value (INR)\",\n      \"properties\": {\n        \"dtype\": \"number\",\n        \"std\": 417,\n        \"min\": 50,\n        \"max\": 2000,\n        \"num_unique_values\": 1951,\n        \"samples\": [\n          1623,\n          798,\n          1997\n        ],\n        \"semantic_type\": \"\",\n        \"description\": \"\"\n      }\n    },\n    {\n      \"column\": \"Customer Feedback\",\n      \"properties\": {\n        \"dtype\": \"category\",\n        \"num_unique_values\": 13,\n        \"samples\": [\n          \"Delivery person was rude.\",\n          \"Not fresh, disappointed.\",\n          \"Fast delivery, great service!\"\n        ],\n        \"semantic_type\": \"\",\n        \"description\": \"\"\n      }\n    },\n    {\n      \"column\": \"Service Rating\",\n      \"properties\": {\n        \"dtype\": \"number\",\n        \"std\": 1,\n        \"min\": 1,\n        \"max\": 5,\n        \"num_unique_values\": 5,\n        \"samples\": [\n          2,\n          3,\n          1\n        ],\n        \"semantic_type\": \"\",\n        \"description\": \"\"\n      }\n    },\n    {\n      \"column\": \"Delivery Delay\",\n      \"properties\": {\n        \"dtype\": \"category\",\n        \"num_unique_values\": 2,\n        \"samples\": [\n          \"Yes\",\n          \"No\"\n        ],\n        \"semantic_type\": \"\",\n        \"description\": \"\"\n      }\n    },\n    {\n      \"column\": \"Refund Requested\",\n      \"properties\": {\n        \"dtype\": \"category\",\n        \"num_unique_values\": 2,\n        \"samples\": [\n          \"Yes\",\n          \"No\"\n        ],\n        \"semantic_type\": \"\",\n        \"description\": \"\"\n      }\n    }\n  ]\n}"
            }
          },
          "metadata": {},
          "execution_count": 7
        }
      ],
      "source": [
        "#Loading and exploring the data\n",
        "df = pd.read_csv('./data/Ecommerce_Delivery_Analytics_New.csv')\n",
        "\n",
        "print(f\"Dataset Shape: {df.shape}\")\n",
        "print(f\"Columns: {list(df.columns)}\")\n",
        "print(\"\\n First 5 rows:\")\n",
        "df.head()"
      ]
    },
    {
      "cell_type": "code",
      "execution_count": 8,
      "metadata": {
        "id": "hkmt5s2jW54D"
      },
      "outputs": [],
      "source": [
        "#Data Cleaning and Preprocessing"
      ]
    },
    {
      "cell_type": "code",
      "execution_count": 9,
      "metadata": {
        "collapsed": true,
        "id": "u9J9Yn_0W-rB",
        "colab": {
          "base_uri": "https://localhost:8080/"
        },
        "outputId": "3d69607d-69d6-45da-c371-afbc96f81125"
      },
      "outputs": [
        {
          "output_type": "stream",
          "name": "stdout",
          "text": [
            "Missing values per column:\n",
            "Order ID                   0\n",
            "Customer ID                0\n",
            "Platform                   0\n",
            "Order Date & Time          0\n",
            "Delivery Time (Minutes)    0\n",
            "Product Category           0\n",
            "Order Value (INR)          0\n",
            "Customer Feedback          0\n",
            "Service Rating             0\n",
            "Delivery Delay             0\n",
            "Refund Requested           0\n",
            "dtype: int64\n"
          ]
        }
      ],
      "source": [
        "# 1. Check missing values\n",
        "print(\"Missing values per column:\")\n",
        "print(df.isnull().sum())"
      ]
    },
    {
      "cell_type": "code",
      "execution_count": 10,
      "metadata": {
        "id": "Z2ojHSEhXBx5"
      },
      "outputs": [],
      "source": [
        "#Order Date to datetime\n",
        "# Convert 'Order Date & Time' to datetime\n",
        "df['Order Date & Time'] = pd.to_datetime(df['Order Date & Time'], errors='coerce')  # coercing errors to handle invalid formats"
      ]
    },
    {
      "cell_type": "code",
      "execution_count": 11,
      "metadata": {
        "id": "Q3wKXha6a-rh"
      },
      "outputs": [],
      "source": [
        "# Ensure 'Delivery Time (Minutes)' is numeric\n",
        "df['Delivery Time (Minutes)'] = pd.to_numeric(df['Delivery Time (Minutes)'], errors='coerce')"
      ]
    },
    {
      "cell_type": "code",
      "execution_count": 12,
      "metadata": {
        "collapsed": true,
        "id": "nX-GvDJMbDQI"
      },
      "outputs": [],
      "source": [
        "# Filter out unrealistic delivery times (e.g., less than 1 min or more than 1440 mins (24h))\n",
        "df = df[(df['Delivery Time (Minutes)'] >= 1) & (df['Delivery Time (Minutes)'] <= 1440)]\n"
      ]
    },
    {
      "cell_type": "code",
      "execution_count": 13,
      "metadata": {
        "id": "xgOcuB7ic5v4"
      },
      "outputs": [],
      "source": [
        "# Ensure Service Rating within 1-5 range\n",
        "df = df[(df['Service Rating'] >= 1) & (df['Service Rating'] <= 5)]"
      ]
    },
    {
      "cell_type": "code",
      "execution_count": 14,
      "metadata": {
        "collapsed": true,
        "id": "1jg0ipwxdBQA",
        "colab": {
          "base_uri": "https://localhost:8080/",
          "height": 206
        },
        "outputId": "fa744b26-25c0-40ed-934c-6d5e84261bdb"
      },
      "outputs": [
        {
          "output_type": "execute_result",
          "data": {
            "text/plain": [
              "    Order ID Customer ID Platform   Order Date & Time  \\\n",
              "0  ORD000001    CUST2824  jiomart 2025-08-31 19:29:30   \n",
              "1  ORD000002    CUST1409  blinkit                 NaT   \n",
              "2  ORD000003    CUST5506  jiomart 2025-08-31 21:29:30   \n",
              "3  ORD000004    CUST5012  jiomart 2025-08-31 19:29:30   \n",
              "4  ORD000005    CUST4657  blinkit                 NaT   \n",
              "\n",
              "   Delivery Time (Minutes)     Product Category  Order Value (INR)  \\\n",
              "0                       30  fruits & vegetables                382   \n",
              "1                       16                dairy                279   \n",
              "2                       25            beverages                599   \n",
              "3                       42            beverages                946   \n",
              "4                       30            beverages                334   \n",
              "\n",
              "               Customer Feedback  Service Rating Delivery Delay  \\\n",
              "0  Fast delivery, great service!               5             No   \n",
              "1            Quick and reliable!               5             No   \n",
              "2      Items missing from order.               2             No   \n",
              "3      Items missing from order.               2            Yes   \n",
              "4  Fast delivery, great service!               5             No   \n",
              "\n",
              "  Refund Requested  \n",
              "0               No  \n",
              "1               No  \n",
              "2              Yes  \n",
              "3              Yes  \n",
              "4               No  "
            ],
            "text/html": [
              "\n",
              "  <div id=\"df-f9bf64d9-b293-417b-8781-823324ccc131\" class=\"colab-df-container\">\n",
              "    <div>\n",
              "<style scoped>\n",
              "    .dataframe tbody tr th:only-of-type {\n",
              "        vertical-align: middle;\n",
              "    }\n",
              "\n",
              "    .dataframe tbody tr th {\n",
              "        vertical-align: top;\n",
              "    }\n",
              "\n",
              "    .dataframe thead th {\n",
              "        text-align: right;\n",
              "    }\n",
              "</style>\n",
              "<table border=\"1\" class=\"dataframe\">\n",
              "  <thead>\n",
              "    <tr style=\"text-align: right;\">\n",
              "      <th></th>\n",
              "      <th>Order ID</th>\n",
              "      <th>Customer ID</th>\n",
              "      <th>Platform</th>\n",
              "      <th>Order Date &amp; Time</th>\n",
              "      <th>Delivery Time (Minutes)</th>\n",
              "      <th>Product Category</th>\n",
              "      <th>Order Value (INR)</th>\n",
              "      <th>Customer Feedback</th>\n",
              "      <th>Service Rating</th>\n",
              "      <th>Delivery Delay</th>\n",
              "      <th>Refund Requested</th>\n",
              "    </tr>\n",
              "  </thead>\n",
              "  <tbody>\n",
              "    <tr>\n",
              "      <th>0</th>\n",
              "      <td>ORD000001</td>\n",
              "      <td>CUST2824</td>\n",
              "      <td>jiomart</td>\n",
              "      <td>2025-08-31 19:29:30</td>\n",
              "      <td>30</td>\n",
              "      <td>fruits &amp; vegetables</td>\n",
              "      <td>382</td>\n",
              "      <td>Fast delivery, great service!</td>\n",
              "      <td>5</td>\n",
              "      <td>No</td>\n",
              "      <td>No</td>\n",
              "    </tr>\n",
              "    <tr>\n",
              "      <th>1</th>\n",
              "      <td>ORD000002</td>\n",
              "      <td>CUST1409</td>\n",
              "      <td>blinkit</td>\n",
              "      <td>NaT</td>\n",
              "      <td>16</td>\n",
              "      <td>dairy</td>\n",
              "      <td>279</td>\n",
              "      <td>Quick and reliable!</td>\n",
              "      <td>5</td>\n",
              "      <td>No</td>\n",
              "      <td>No</td>\n",
              "    </tr>\n",
              "    <tr>\n",
              "      <th>2</th>\n",
              "      <td>ORD000003</td>\n",
              "      <td>CUST5506</td>\n",
              "      <td>jiomart</td>\n",
              "      <td>2025-08-31 21:29:30</td>\n",
              "      <td>25</td>\n",
              "      <td>beverages</td>\n",
              "      <td>599</td>\n",
              "      <td>Items missing from order.</td>\n",
              "      <td>2</td>\n",
              "      <td>No</td>\n",
              "      <td>Yes</td>\n",
              "    </tr>\n",
              "    <tr>\n",
              "      <th>3</th>\n",
              "      <td>ORD000004</td>\n",
              "      <td>CUST5012</td>\n",
              "      <td>jiomart</td>\n",
              "      <td>2025-08-31 19:29:30</td>\n",
              "      <td>42</td>\n",
              "      <td>beverages</td>\n",
              "      <td>946</td>\n",
              "      <td>Items missing from order.</td>\n",
              "      <td>2</td>\n",
              "      <td>Yes</td>\n",
              "      <td>Yes</td>\n",
              "    </tr>\n",
              "    <tr>\n",
              "      <th>4</th>\n",
              "      <td>ORD000005</td>\n",
              "      <td>CUST4657</td>\n",
              "      <td>blinkit</td>\n",
              "      <td>NaT</td>\n",
              "      <td>30</td>\n",
              "      <td>beverages</td>\n",
              "      <td>334</td>\n",
              "      <td>Fast delivery, great service!</td>\n",
              "      <td>5</td>\n",
              "      <td>No</td>\n",
              "      <td>No</td>\n",
              "    </tr>\n",
              "  </tbody>\n",
              "</table>\n",
              "</div>\n",
              "    <div class=\"colab-df-buttons\">\n",
              "\n",
              "  <div class=\"colab-df-container\">\n",
              "    <button class=\"colab-df-convert\" onclick=\"convertToInteractive('df-f9bf64d9-b293-417b-8781-823324ccc131')\"\n",
              "            title=\"Convert this dataframe to an interactive table.\"\n",
              "            style=\"display:none;\">\n",
              "\n",
              "  <svg xmlns=\"http://www.w3.org/2000/svg\" height=\"24px\" viewBox=\"0 -960 960 960\">\n",
              "    <path d=\"M120-120v-720h720v720H120Zm60-500h600v-160H180v160Zm220 220h160v-160H400v160Zm0 220h160v-160H400v160ZM180-400h160v-160H180v160Zm440 0h160v-160H620v160ZM180-180h160v-160H180v160Zm440 0h160v-160H620v160Z\"/>\n",
              "  </svg>\n",
              "    </button>\n",
              "\n",
              "  <style>\n",
              "    .colab-df-container {\n",
              "      display:flex;\n",
              "      gap: 12px;\n",
              "    }\n",
              "\n",
              "    .colab-df-convert {\n",
              "      background-color: #E8F0FE;\n",
              "      border: none;\n",
              "      border-radius: 50%;\n",
              "      cursor: pointer;\n",
              "      display: none;\n",
              "      fill: #1967D2;\n",
              "      height: 32px;\n",
              "      padding: 0 0 0 0;\n",
              "      width: 32px;\n",
              "    }\n",
              "\n",
              "    .colab-df-convert:hover {\n",
              "      background-color: #E2EBFA;\n",
              "      box-shadow: 0px 1px 2px rgba(60, 64, 67, 0.3), 0px 1px 3px 1px rgba(60, 64, 67, 0.15);\n",
              "      fill: #174EA6;\n",
              "    }\n",
              "\n",
              "    .colab-df-buttons div {\n",
              "      margin-bottom: 4px;\n",
              "    }\n",
              "\n",
              "    [theme=dark] .colab-df-convert {\n",
              "      background-color: #3B4455;\n",
              "      fill: #D2E3FC;\n",
              "    }\n",
              "\n",
              "    [theme=dark] .colab-df-convert:hover {\n",
              "      background-color: #434B5C;\n",
              "      box-shadow: 0px 1px 3px 1px rgba(0, 0, 0, 0.15);\n",
              "      filter: drop-shadow(0px 1px 2px rgba(0, 0, 0, 0.3));\n",
              "      fill: #FFFFFF;\n",
              "    }\n",
              "  </style>\n",
              "\n",
              "    <script>\n",
              "      const buttonEl =\n",
              "        document.querySelector('#df-f9bf64d9-b293-417b-8781-823324ccc131 button.colab-df-convert');\n",
              "      buttonEl.style.display =\n",
              "        google.colab.kernel.accessAllowed ? 'block' : 'none';\n",
              "\n",
              "      async function convertToInteractive(key) {\n",
              "        const element = document.querySelector('#df-f9bf64d9-b293-417b-8781-823324ccc131');\n",
              "        const dataTable =\n",
              "          await google.colab.kernel.invokeFunction('convertToInteractive',\n",
              "                                                    [key], {});\n",
              "        if (!dataTable) return;\n",
              "\n",
              "        const docLinkHtml = 'Like what you see? Visit the ' +\n",
              "          '<a target=\"_blank\" href=https://colab.research.google.com/notebooks/data_table.ipynb>data table notebook</a>'\n",
              "          + ' to learn more about interactive tables.';\n",
              "        element.innerHTML = '';\n",
              "        dataTable['output_type'] = 'display_data';\n",
              "        await google.colab.output.renderOutput(dataTable, element);\n",
              "        const docLink = document.createElement('div');\n",
              "        docLink.innerHTML = docLinkHtml;\n",
              "        element.appendChild(docLink);\n",
              "      }\n",
              "    </script>\n",
              "  </div>\n",
              "\n",
              "\n",
              "    <div id=\"df-dfade344-ae9f-45c8-a7c3-c3b4b9f6e9c9\">\n",
              "      <button class=\"colab-df-quickchart\" onclick=\"quickchart('df-dfade344-ae9f-45c8-a7c3-c3b4b9f6e9c9')\"\n",
              "                title=\"Suggest charts\"\n",
              "                style=\"display:none;\">\n",
              "\n",
              "<svg xmlns=\"http://www.w3.org/2000/svg\" height=\"24px\"viewBox=\"0 0 24 24\"\n",
              "     width=\"24px\">\n",
              "    <g>\n",
              "        <path d=\"M19 3H5c-1.1 0-2 .9-2 2v14c0 1.1.9 2 2 2h14c1.1 0 2-.9 2-2V5c0-1.1-.9-2-2-2zM9 17H7v-7h2v7zm4 0h-2V7h2v10zm4 0h-2v-4h2v4z\"/>\n",
              "    </g>\n",
              "</svg>\n",
              "      </button>\n",
              "\n",
              "<style>\n",
              "  .colab-df-quickchart {\n",
              "      --bg-color: #E8F0FE;\n",
              "      --fill-color: #1967D2;\n",
              "      --hover-bg-color: #E2EBFA;\n",
              "      --hover-fill-color: #174EA6;\n",
              "      --disabled-fill-color: #AAA;\n",
              "      --disabled-bg-color: #DDD;\n",
              "  }\n",
              "\n",
              "  [theme=dark] .colab-df-quickchart {\n",
              "      --bg-color: #3B4455;\n",
              "      --fill-color: #D2E3FC;\n",
              "      --hover-bg-color: #434B5C;\n",
              "      --hover-fill-color: #FFFFFF;\n",
              "      --disabled-bg-color: #3B4455;\n",
              "      --disabled-fill-color: #666;\n",
              "  }\n",
              "\n",
              "  .colab-df-quickchart {\n",
              "    background-color: var(--bg-color);\n",
              "    border: none;\n",
              "    border-radius: 50%;\n",
              "    cursor: pointer;\n",
              "    display: none;\n",
              "    fill: var(--fill-color);\n",
              "    height: 32px;\n",
              "    padding: 0;\n",
              "    width: 32px;\n",
              "  }\n",
              "\n",
              "  .colab-df-quickchart:hover {\n",
              "    background-color: var(--hover-bg-color);\n",
              "    box-shadow: 0 1px 2px rgba(60, 64, 67, 0.3), 0 1px 3px 1px rgba(60, 64, 67, 0.15);\n",
              "    fill: var(--button-hover-fill-color);\n",
              "  }\n",
              "\n",
              "  .colab-df-quickchart-complete:disabled,\n",
              "  .colab-df-quickchart-complete:disabled:hover {\n",
              "    background-color: var(--disabled-bg-color);\n",
              "    fill: var(--disabled-fill-color);\n",
              "    box-shadow: none;\n",
              "  }\n",
              "\n",
              "  .colab-df-spinner {\n",
              "    border: 2px solid var(--fill-color);\n",
              "    border-color: transparent;\n",
              "    border-bottom-color: var(--fill-color);\n",
              "    animation:\n",
              "      spin 1s steps(1) infinite;\n",
              "  }\n",
              "\n",
              "  @keyframes spin {\n",
              "    0% {\n",
              "      border-color: transparent;\n",
              "      border-bottom-color: var(--fill-color);\n",
              "      border-left-color: var(--fill-color);\n",
              "    }\n",
              "    20% {\n",
              "      border-color: transparent;\n",
              "      border-left-color: var(--fill-color);\n",
              "      border-top-color: var(--fill-color);\n",
              "    }\n",
              "    30% {\n",
              "      border-color: transparent;\n",
              "      border-left-color: var(--fill-color);\n",
              "      border-top-color: var(--fill-color);\n",
              "      border-right-color: var(--fill-color);\n",
              "    }\n",
              "    40% {\n",
              "      border-color: transparent;\n",
              "      border-right-color: var(--fill-color);\n",
              "      border-top-color: var(--fill-color);\n",
              "    }\n",
              "    60% {\n",
              "      border-color: transparent;\n",
              "      border-right-color: var(--fill-color);\n",
              "    }\n",
              "    80% {\n",
              "      border-color: transparent;\n",
              "      border-right-color: var(--fill-color);\n",
              "      border-bottom-color: var(--fill-color);\n",
              "    }\n",
              "    90% {\n",
              "      border-color: transparent;\n",
              "      border-bottom-color: var(--fill-color);\n",
              "    }\n",
              "  }\n",
              "</style>\n",
              "\n",
              "      <script>\n",
              "        async function quickchart(key) {\n",
              "          const quickchartButtonEl =\n",
              "            document.querySelector('#' + key + ' button');\n",
              "          quickchartButtonEl.disabled = true;  // To prevent multiple clicks.\n",
              "          quickchartButtonEl.classList.add('colab-df-spinner');\n",
              "          try {\n",
              "            const charts = await google.colab.kernel.invokeFunction(\n",
              "                'suggestCharts', [key], {});\n",
              "          } catch (error) {\n",
              "            console.error('Error during call to suggestCharts:', error);\n",
              "          }\n",
              "          quickchartButtonEl.classList.remove('colab-df-spinner');\n",
              "          quickchartButtonEl.classList.add('colab-df-quickchart-complete');\n",
              "        }\n",
              "        (() => {\n",
              "          let quickchartButtonEl =\n",
              "            document.querySelector('#df-dfade344-ae9f-45c8-a7c3-c3b4b9f6e9c9 button');\n",
              "          quickchartButtonEl.style.display =\n",
              "            google.colab.kernel.accessAllowed ? 'block' : 'none';\n",
              "        })();\n",
              "      </script>\n",
              "    </div>\n",
              "\n",
              "    </div>\n",
              "  </div>\n"
            ],
            "application/vnd.google.colaboratory.intrinsic+json": {
              "type": "dataframe",
              "variable_name": "df",
              "summary": "{\n  \"name\": \"df\",\n  \"rows\": 100000,\n  \"fields\": [\n    {\n      \"column\": \"Order ID\",\n      \"properties\": {\n        \"dtype\": \"string\",\n        \"num_unique_values\": 100000,\n        \"samples\": [\n          \"ORD075722\",\n          \"ORD080185\",\n          \"ORD019865\"\n        ],\n        \"semantic_type\": \"\",\n        \"description\": \"\"\n      }\n    },\n    {\n      \"column\": \"Customer ID\",\n      \"properties\": {\n        \"dtype\": \"category\",\n        \"num_unique_values\": 9000,\n        \"samples\": [\n          \"CUST6734\",\n          \"CUST6105\",\n          \"CUST5941\"\n        ],\n        \"semantic_type\": \"\",\n        \"description\": \"\"\n      }\n    },\n    {\n      \"column\": \"Platform\",\n      \"properties\": {\n        \"dtype\": \"category\",\n        \"num_unique_values\": 3,\n        \"samples\": [\n          \"jiomart\",\n          \"blinkit\",\n          \"swiggy instamart\"\n        ],\n        \"semantic_type\": \"\",\n        \"description\": \"\"\n      }\n    },\n    {\n      \"column\": \"Order Date & Time\",\n      \"properties\": {\n        \"dtype\": \"date\",\n        \"min\": \"2025-08-31 00:29:30\",\n        \"max\": \"2025-08-31 23:29:30\",\n        \"num_unique_values\": 24,\n        \"samples\": [\n          \"2025-08-31 20:29:30\",\n          \"2025-08-31 04:29:30\",\n          \"2025-08-31 19:29:30\"\n        ],\n        \"semantic_type\": \"\",\n        \"description\": \"\"\n      }\n    },\n    {\n      \"column\": \"Delivery Time (Minutes)\",\n      \"properties\": {\n        \"dtype\": \"number\",\n        \"std\": 9,\n        \"min\": 5,\n        \"max\": 76,\n        \"num_unique_values\": 69,\n        \"samples\": [\n          24,\n          30,\n          6\n        ],\n        \"semantic_type\": \"\",\n        \"description\": \"\"\n      }\n    },\n    {\n      \"column\": \"Product Category\",\n      \"properties\": {\n        \"dtype\": \"category\",\n        \"num_unique_values\": 6,\n        \"samples\": [\n          \"fruits & vegetables\",\n          \"dairy\",\n          \"snacks\"\n        ],\n        \"semantic_type\": \"\",\n        \"description\": \"\"\n      }\n    },\n    {\n      \"column\": \"Order Value (INR)\",\n      \"properties\": {\n        \"dtype\": \"number\",\n        \"std\": 417,\n        \"min\": 50,\n        \"max\": 2000,\n        \"num_unique_values\": 1951,\n        \"samples\": [\n          1623,\n          798,\n          1997\n        ],\n        \"semantic_type\": \"\",\n        \"description\": \"\"\n      }\n    },\n    {\n      \"column\": \"Customer Feedback\",\n      \"properties\": {\n        \"dtype\": \"category\",\n        \"num_unique_values\": 13,\n        \"samples\": [\n          \"Delivery person was rude.\",\n          \"Not fresh, disappointed.\",\n          \"Fast delivery, great service!\"\n        ],\n        \"semantic_type\": \"\",\n        \"description\": \"\"\n      }\n    },\n    {\n      \"column\": \"Service Rating\",\n      \"properties\": {\n        \"dtype\": \"number\",\n        \"std\": 1,\n        \"min\": 1,\n        \"max\": 5,\n        \"num_unique_values\": 5,\n        \"samples\": [\n          2,\n          3,\n          1\n        ],\n        \"semantic_type\": \"\",\n        \"description\": \"\"\n      }\n    },\n    {\n      \"column\": \"Delivery Delay\",\n      \"properties\": {\n        \"dtype\": \"category\",\n        \"num_unique_values\": 2,\n        \"samples\": [\n          \"Yes\",\n          \"No\"\n        ],\n        \"semantic_type\": \"\",\n        \"description\": \"\"\n      }\n    },\n    {\n      \"column\": \"Refund Requested\",\n      \"properties\": {\n        \"dtype\": \"category\",\n        \"num_unique_values\": 2,\n        \"samples\": [\n          \"Yes\",\n          \"No\"\n        ],\n        \"semantic_type\": \"\",\n        \"description\": \"\"\n      }\n    }\n  ]\n}"
            }
          },
          "metadata": {},
          "execution_count": 14
        }
      ],
      "source": [
        "# Normalize 'Platform' and 'Product Category' columns by converting to lowercase and stripping whitespace\n",
        "df['Platform'] = df['Platform'].str.lower().str.strip()\n",
        "df['Product Category'] = df['Product Category'].str.lower().str.strip()\n",
        "df.head()"
      ]
    },
    {
      "cell_type": "code",
      "execution_count": 15,
      "metadata": {
        "id": "tfh8q5vg5575"
      },
      "outputs": [],
      "source": [
        "#New features"
      ]
    },
    {
      "cell_type": "code",
      "execution_count": 16,
      "metadata": {
        "id": "Cugm-0qm6BRw"
      },
      "outputs": [],
      "source": [
        "# Extract order hour and day of week\n",
        "df['Order Hour'] = df['Order Date & Time'].dt.hour\n",
        "df['Order DayOfWeek'] = df['Order Date & Time'].dt.day_name()"
      ]
    },
    {
      "cell_type": "code",
      "execution_count": 17,
      "metadata": {
        "id": "9F_hUyvb66_Q"
      },
      "outputs": [],
      "source": [
        "# Calculate average delivery time per platform (example)\n",
        "avg_delivery_time_per_platform = df.groupby('Platform')['Delivery Time (Minutes)'].mean()"
      ]
    },
    {
      "cell_type": "code",
      "execution_count": 18,
      "metadata": {
        "collapsed": true,
        "id": "52FtO1PB7EK4",
        "colab": {
          "base_uri": "https://localhost:8080/"
        },
        "outputId": "5d2d6a9a-e132-4f44-8875-b284bc5f2d60"
      },
      "outputs": [
        {
          "output_type": "stream",
          "name": "stdout",
          "text": [
            "\n",
            "Sample cleaned data:\n",
            "    Order ID Customer ID Platform   Order Date & Time  \\\n",
            "0  ORD000001    CUST2824  jiomart 2025-08-31 19:29:30   \n",
            "1  ORD000002    CUST1409  blinkit                 NaT   \n",
            "2  ORD000003    CUST5506  jiomart 2025-08-31 21:29:30   \n",
            "3  ORD000004    CUST5012  jiomart 2025-08-31 19:29:30   \n",
            "4  ORD000005    CUST4657  blinkit                 NaT   \n",
            "\n",
            "   Delivery Time (Minutes)     Product Category  Order Value (INR)  \\\n",
            "0                       30  fruits & vegetables                382   \n",
            "1                       16                dairy                279   \n",
            "2                       25            beverages                599   \n",
            "3                       42            beverages                946   \n",
            "4                       30            beverages                334   \n",
            "\n",
            "               Customer Feedback  Service Rating Delivery Delay  \\\n",
            "0  Fast delivery, great service!               5             No   \n",
            "1            Quick and reliable!               5             No   \n",
            "2      Items missing from order.               2             No   \n",
            "3      Items missing from order.               2            Yes   \n",
            "4  Fast delivery, great service!               5             No   \n",
            "\n",
            "  Refund Requested  Order Hour Order DayOfWeek  \n",
            "0               No        19.0          Sunday  \n",
            "1               No         NaN             NaN  \n",
            "2              Yes        21.0          Sunday  \n",
            "3              Yes        19.0          Sunday  \n",
            "4               No         NaN             NaN  \n",
            "\n",
            "Average delivery time per platform:\n",
            "Platform\n",
            "blinkit             29.474898\n",
            "jiomart             29.634498\n",
            "swiggy instamart    29.499925\n",
            "Name: Delivery Time (Minutes), dtype: float64\n"
          ]
        }
      ],
      "source": [
        "# Display cleaned dataframe and missing values report\n",
        "print(\"\\nSample cleaned data:\")\n",
        "print(df.head())\n",
        "\n",
        "print(\"\\nAverage delivery time per platform:\")\n",
        "print(avg_delivery_time_per_platform)"
      ]
    },
    {
      "cell_type": "code",
      "execution_count": 19,
      "metadata": {
        "id": "n9F6TASE9JY3"
      },
      "outputs": [],
      "source": [
        "#Exploratory Data Analysis"
      ]
    },
    {
      "cell_type": "code",
      "execution_count": 20,
      "metadata": {
        "id": "ac_qrMiA9MKP"
      },
      "outputs": [],
      "source": [
        "import seaborn as sns\n",
        "import matplotlib.pyplot as plt"
      ]
    },
    {
      "cell_type": "code",
      "execution_count": 21,
      "metadata": {
        "id": "uR3TPfXJ97xs",
        "colab": {
          "base_uri": "https://localhost:8080/"
        },
        "outputId": "b2caf956-8af7-448c-a930-b0ed5952380c"
      },
      "outputs": [
        {
          "output_type": "stream",
          "name": "stdout",
          "text": [
            "Total Orders: 100000\n",
            "Unique Customers: 9000\n"
          ]
        }
      ],
      "source": [
        "#Overview metrics\n",
        "print(\"Total Orders:\", len(df))\n",
        "print(\"Unique Customers:\", df['Customer ID'].nunique())"
      ]
    },
    {
      "cell_type": "code",
      "execution_count": 22,
      "metadata": {
        "id": "ooyOeZa69-qE",
        "colab": {
          "base_uri": "https://localhost:8080/"
        },
        "outputId": "eb14465d-87ad-4c94-afb3-7fd1b0e6763b"
      },
      "outputs": [
        {
          "output_type": "stream",
          "name": "stdout",
          "text": [
            "Avg Delivery Time: 29.53614\n",
            "Avg Order Value: 590.9944\n",
            "Avg Service Rating: 3.24079\n"
          ]
        }
      ],
      "source": [
        "# Key performance metrics\n",
        "print(\"Avg Delivery Time:\", df['Delivery Time (Minutes)'].mean())\n",
        "print(\"Avg Order Value:\", df['Order Value (INR)'].mean())\n",
        "print(\"Avg Service Rating:\", df['Service Rating'].mean())"
      ]
    },
    {
      "cell_type": "code",
      "execution_count": 23,
      "metadata": {
        "id": "0WVkdcHG-F59",
        "colab": {
          "base_uri": "https://localhost:8080/"
        },
        "outputId": "d8c9105f-9931-4978-f75d-65bf3c7c0226"
      },
      "outputs": [
        {
          "output_type": "stream",
          "name": "stdout",
          "text": [
            "                  Delivery Time (Minutes)  Order Value (INR)  Service Rating\n",
            "Platform                                                                    \n",
            "blinkit                             29.47             589.55            3.23\n",
            "jiomart                             29.63             590.53            3.25\n",
            "swiggy instamart                    29.50             592.90            3.24\n"
          ]
        }
      ],
      "source": [
        "# Platform comparison\n",
        "platform_stats = df.groupby('Platform').agg({\n",
        "    'Delivery Time (Minutes)': 'mean',\n",
        "    'Order Value (INR)': 'mean',\n",
        "    'Service Rating': 'mean'\n",
        "}).round(2)\n",
        "print(platform_stats)"
      ]
    },
    {
      "cell_type": "code",
      "execution_count": 24,
      "metadata": {
        "id": "QIvxAPX-A4cr",
        "colab": {
          "base_uri": "https://localhost:8080/",
          "height": 410
        },
        "outputId": "66ff75d1-3ec2-40f7-d077-8601457be751"
      },
      "outputs": [
        {
          "output_type": "display_data",
          "data": {
            "text/plain": [
              "<Figure size 600x400 with 1 Axes>"
            ],
            "image/png": "[encoded data removed]"
          },
          "metadata": {}
        }
      ],
      "source": [
        "# Visual: Avg delivery time by platform\n",
        "plt.figure(figsize=(6,4))\n",
        "sns.barplot(x=platform_stats.index, y='Delivery Time (Minutes)', data=platform_stats.reset_index())\n",
        "plt.title(\"Average Delivery Time by Platform\")\n",
        "plt.ylabel(\"Minutes\")\n",
        "plt.xlabel(\"Q-commerce sites\")\n",
        "plt.show()"
      ]
    },
    {
      "cell_type": "code",
      "execution_count": 25,
      "metadata": {
        "id": "0usl2WzNDmTF",
        "colab": {
          "base_uri": "https://localhost:8080/",
          "height": 410
        },
        "outputId": "95651eaa-7446-4583-92ac-44ba768f89ac"
      },
      "outputs": [
        {
          "output_type": "display_data",
          "data": {
            "text/plain": [
              "<Figure size 600x400 with 1 Axes>"
            ],
            "image/png": "[encoded data removed]"
          },
          "metadata": {}
        }
      ],
      "source": [
        "# Rating distribution\n",
        "plt.figure(figsize=(6,4))\n",
        "sns.countplot(x='Service Rating', data=df)\n",
        "plt.title(\"Service Rating Distribution\")\n",
        "plt.ylabel('No. of orders/rating')\n",
        "plt.show()"
      ]
    },
    {
      "cell_type": "code",
      "execution_count": 26,
      "metadata": {
        "id": "wdtXz_sOEdMw",
        "colab": {
          "base_uri": "https://localhost:8080/",
          "height": 487
        },
        "outputId": "613b7dba-44b7-4ee0-e8f6-aecbffa549ec"
      },
      "outputs": [
        {
          "output_type": "display_data",
          "data": {
            "text/plain": [
              "<Figure size 800x500 with 1 Axes>"
            ],
            "image/png": "[encoded data removed]"
          },
          "metadata": {}
        }
      ],
      "source": [
        "# Delivery time vs. rating\n",
        "plt.figure(figsize=(8,5))\n",
        "sns.violinplot(x='Service Rating', y='Delivery Time (Minutes)', data=df, inner='quartile')\n",
        "plt.title(\"Delivery Time Distribution by Service Rating (Violin Plot)\")\n",
        "plt.show()"
      ]
    },
    {
      "cell_type": "code",
      "execution_count": 27,
      "metadata": {
        "id": "dzPqzCryHQ-x",
        "colab": {
          "base_uri": "https://localhost:8080/",
          "height": 487
        },
        "outputId": "980db032-2990-47ae-dd9f-871d1838d0b4"
      },
      "outputs": [
        {
          "output_type": "display_data",
          "data": {
            "text/plain": [
              "<Figure size 800x500 with 1 Axes>"
            ],
            "image/png": "[encoded data removed]"
          },
          "metadata": {}
        }
      ],
      "source": [
        "rating_group = df.groupby('Service Rating')['Delivery Time (Minutes)'].mean().reset_index()\n",
        "plt.figure(figsize=(8,5))\n",
        "sns.lineplot(x='Service Rating', y='Delivery Time (Minutes)', data=rating_group, marker='o')\n",
        "plt.title(\"Trend: Avg Delivery Time vs. Service Rating\")\n",
        "plt.show()"
      ]
    },
    {
      "cell_type": "code",
      "execution_count": 28,
      "metadata": {
        "id": "3CwOWmwtJVww",
        "colab": {
          "base_uri": "https://localhost:8080/",
          "height": 391
        },
        "outputId": "43dec6c8-7aa1-4d0f-c39c-2f9f9b7b43b4"
      },
      "outputs": [
        {
          "output_type": "display_data",
          "data": {
            "text/plain": [
              "<Figure size 600x400 with 1 Axes>"
            ],
            "image/png": "[encoded data removed]"
          },
          "metadata": {}
        }
      ],
      "source": [
        "#Delivery delay & refund rates\n",
        "# Create temporary boolean or numeric Series for plotting\n",
        "delivery_delay_bool = df['Delivery Delay'] == 'Yes'\n",
        "refund_requested_bool = df['Refund Requested'] == 'Yes'\n",
        "\n",
        "rates = {\n",
        "    'Delivery Delay Rate': delivery_delay_bool.mean() * 100,\n",
        "    'Refund Request Rate': refund_requested_bool.mean() * 100\n",
        "}\n",
        "\n",
        "plt.figure(figsize=(6,4))\n",
        "sns.barplot(x=list(rates.keys()), y=list(rates.values()))\n",
        "plt.ylabel(\"Percentage\")\n",
        "plt.title(\"Problem Order Rates\")\n",
        "plt.show()"
      ]
    },
    {
      "cell_type": "code",
      "execution_count": 29,
      "metadata": {
        "id": "mPO_HQ3uX3jV"
      },
      "outputs": [],
      "source": [
        "#Advanced EDA"
      ]
    },
    {
      "cell_type": "code",
      "execution_count": 30,
      "metadata": {
        "collapsed": true,
        "id": "1Adg9QepX49c",
        "colab": {
          "base_uri": "https://localhost:8080/",
          "height": 604
        },
        "outputId": "aa981f2a-b10f-47d9-f689-42544c674964"
      },
      "outputs": [
        {
          "output_type": "display_data",
          "data": {
            "text/plain": [
              "<Figure size 640x480 with 2 Axes>"
            ],
            "image/png": "[encoded data removed]"
          },
          "metadata": {}
        }
      ],
      "source": [
        "# Correlation matrix\n",
        "corr = df[['Delivery Time (Minutes)', 'Order Value (INR)', 'Service Rating']].corr()\n",
        "sns.heatmap(corr, annot=True, fmt=\".2f\", cmap=\"coolwarm\")\n",
        "plt.title(\"Correlation Matrix\")\n",
        "plt.show()\n",
        "#blue - negative, red - positive"
      ]
    },
    {
      "cell_type": "code",
      "execution_count": 31,
      "metadata": {
        "colab": {
          "base_uri": "https://localhost:8080/",
          "height": 391
        },
        "id": "Ady9zdtDja7p",
        "outputId": "8acee509-f68d-425c-c608-8570e991a14f"
      },
      "outputs": [
        {
          "output_type": "display_data",
          "data": {
            "text/plain": [
              "<Figure size 600x400 with 1 Axes>"
            ],
            "image/png": "[encoded data removed]"
          },
          "metadata": {}
        }
      ],
      "source": [
        "# Problem vs. successful orders\n",
        "\n",
        "problem = df[delivery_delay_bool | refund_requested_bool]\n",
        "#print(problem.tail())\n",
        "\n",
        "# Filter successful orders (neither delay nor refund)\n",
        "success = df[~(delivery_delay_bool | refund_requested_bool)]\n",
        "#print(success.tail())\n",
        "\n",
        "counts = [len(problem), len(success)]\n",
        "labels = ['Problem Orders', 'Successful Orders']\n",
        "\n",
        "plt.figure(figsize=(6,4))\n",
        "sns.barplot(x=labels, y=counts)\n",
        "plt.ylabel(\"Number of Orders\")\n",
        "plt.title(\"Count of Problem Orders vs. Successful Orders\")\n",
        "plt.show()\n"
      ]
    },
    {
      "cell_type": "code",
      "execution_count": 32,
      "metadata": {
        "colab": {
          "base_uri": "https://localhost:8080/",
          "height": 35
        },
        "id": "pHIQVqFamfwg",
        "outputId": "1544a377-5787-4751-f992-90be5067949b"
      },
      "outputs": [
        {
          "output_type": "execute_result",
          "data": {
            "text/plain": [
              "'\\nObjective -\\n1.Predict which orders are likely to be delayed\\n2.Identify the key factors causing delays\\n3.Provide actionable business insights\\n4.Quantify potential cost savings\\n'"
            ],
            "application/vnd.google.colaboratory.intrinsic+json": {
              "type": "string"
            }
          },
          "metadata": {},
          "execution_count": 32
        }
      ],
      "source": [
        "#Delivery Delay Prediction Model\n",
        "\"\"\"\n",
        "Objective -\n",
        "1.Predict which orders are likely to be delayed\n",
        "2.Identify the key factors causing delays\n",
        "3.Provide actionable business insights\n",
        "4.Quantify potential cost savings\n",
        "\"\"\""
      ]
    },
    {
      "cell_type": "code",
      "execution_count": 33,
      "metadata": {
        "id": "1GR4td7YyA_f"
      },
      "outputs": [],
      "source": [
        "# Machine learning libraries\n",
        "from sklearn.model_selection import train_test_split\n",
        "from sklearn.preprocessing import LabelEncoder, StandardScaler\n",
        "from sklearn.ensemble import RandomForestClassifier\n",
        "from sklearn.linear_model import LogisticRegression\n",
        "\n",
        "# Evaluation metrics\n",
        "from sklearn.metrics import (\n",
        "    classification_report,\n",
        "    confusion_matrix,\n",
        "    roc_auc_score,\n",
        "    roc_curve,\n",
        "    accuracy_score,\n",
        "    precision_score,\n",
        "    recall_score,\n",
        "    f1_score\n",
        ")"
      ]
    },
    {
      "cell_type": "code",
      "source": [
        "#Checking the cleaned dataset"
      ],
      "metadata": {
        "id": "IkhVmIQ44oYC"
      },
      "execution_count": 34,
      "outputs": []
    },
    {
      "cell_type": "code",
      "source": [
        "print(f\"Dataset shape: {df.shape}\")\n",
        "print(f\"Delivery delay rate: {(df['Delivery Delay'] == 'Yes').mean()*100:.1f}%\")\n",
        "print(\"\\nFirst 5 rows:\")\n",
        "df.head()"
      ],
      "metadata": {
        "colab": {
          "base_uri": "https://localhost:8080/",
          "height": 362
        },
        "id": "ktKFjF__472A",
        "outputId": "675862ac-a2bb-4a7d-c5df-0dde6361a0b5"
      },
      "execution_count": 35,
      "outputs": [
        {
          "output_type": "stream",
          "name": "stdout",
          "text": [
            "Dataset shape: (100000, 13)\n",
            "Delivery delay rate: 13.7%\n",
            "\n",
            "First 5 rows:\n"
          ]
        },
        {
          "output_type": "execute_result",
          "data": {
            "text/plain": [
              "    Order ID Customer ID Platform   Order Date & Time  \\\n",
              "0  ORD000001    CUST2824  jiomart 2025-08-31 19:29:30   \n",
              "1  ORD000002    CUST1409  blinkit                 NaT   \n",
              "2  ORD000003    CUST5506  jiomart 2025-08-31 21:29:30   \n",
              "3  ORD000004    CUST5012  jiomart 2025-08-31 19:29:30   \n",
              "4  ORD000005    CUST4657  blinkit                 NaT   \n",
              "\n",
              "   Delivery Time (Minutes)     Product Category  Order Value (INR)  \\\n",
              "0                       30  fruits & vegetables                382   \n",
              "1                       16                dairy                279   \n",
              "2                       25            beverages                599   \n",
              "3                       42            beverages                946   \n",
              "4                       30            beverages                334   \n",
              "\n",
              "               Customer Feedback  Service Rating Delivery Delay  \\\n",
              "0  Fast delivery, great service!               5             No   \n",
              "1            Quick and reliable!               5             No   \n",
              "2      Items missing from order.               2             No   \n",
              "3      Items missing from order.               2            Yes   \n",
              "4  Fast delivery, great service!               5             No   \n",
              "\n",
              "  Refund Requested  Order Hour Order DayOfWeek  \n",
              "0               No        19.0          Sunday  \n",
              "1               No         NaN             NaN  \n",
              "2              Yes        21.0          Sunday  \n",
              "3              Yes        19.0          Sunday  \n",
              "4               No         NaN             NaN  "
            ],
            "text/html": [
              "\n",
              "  <div id=\"df-9283bf85-0bc1-423d-9104-b20e6bcef935\" class=\"colab-df-container\">\n",
              "    <div>\n",
              "<style scoped>\n",
              "    .dataframe tbody tr th:only-of-type {\n",
              "        vertical-align: middle;\n",
              "    }\n",
              "\n",
              "    .dataframe tbody tr th {\n",
              "        vertical-align: top;\n",
              "    }\n",
              "\n",
              "    .dataframe thead th {\n",
              "        text-align: right;\n",
              "    }\n",
              "</style>\n",
              "<table border=\"1\" class=\"dataframe\">\n",
              "  <thead>\n",
              "    <tr style=\"text-align: right;\">\n",
              "      <th></th>\n",
              "      <th>Order ID</th>\n",
              "      <th>Customer ID</th>\n",
              "      <th>Platform</th>\n",
              "      <th>Order Date &amp; Time</th>\n",
              "      <th>Delivery Time (Minutes)</th>\n",
              "      <th>Product Category</th>\n",
              "      <th>Order Value (INR)</th>\n",
              "      <th>Customer Feedback</th>\n",
              "      <th>Service Rating</th>\n",
              "      <th>Delivery Delay</th>\n",
              "      <th>Refund Requested</th>\n",
              "      <th>Order Hour</th>\n",
              "      <th>Order DayOfWeek</th>\n",
              "    </tr>\n",
              "  </thead>\n",
              "  <tbody>\n",
              "    <tr>\n",
              "      <th>0</th>\n",
              "      <td>ORD000001</td>\n",
              "      <td>CUST2824</td>\n",
              "      <td>jiomart</td>\n",
              "      <td>2025-08-31 19:29:30</td>\n",
              "      <td>30</td>\n",
              "      <td>fruits &amp; vegetables</td>\n",
              "      <td>382</td>\n",
              "      <td>Fast delivery, great service!</td>\n",
              "      <td>5</td>\n",
              "      <td>No</td>\n",
              "      <td>No</td>\n",
              "      <td>19.0</td>\n",
              "      <td>Sunday</td>\n",
              "    </tr>\n",
              "    <tr>\n",
              "      <th>1</th>\n",
              "      <td>ORD000002</td>\n",
              "      <td>CUST1409</td>\n",
              "      <td>blinkit</td>\n",
              "      <td>NaT</td>\n",
              "      <td>16</td>\n",
              "      <td>dairy</td>\n",
              "      <td>279</td>\n",
              "      <td>Quick and reliable!</td>\n",
              "      <td>5</td>\n",
              "      <td>No</td>\n",
              "      <td>No</td>\n",
              "      <td>NaN</td>\n",
              "      <td>NaN</td>\n",
              "    </tr>\n",
              "    <tr>\n",
              "      <th>2</th>\n",
              "      <td>ORD000003</td>\n",
              "      <td>CUST5506</td>\n",
              "      <td>jiomart</td>\n",
              "      <td>2025-08-31 21:29:30</td>\n",
              "      <td>25</td>\n",
              "      <td>beverages</td>\n",
              "      <td>599</td>\n",
              "      <td>Items missing from order.</td>\n",
              "      <td>2</td>\n",
              "      <td>No</td>\n",
              "      <td>Yes</td>\n",
              "      <td>21.0</td>\n",
              "      <td>Sunday</td>\n",
              "    </tr>\n",
              "    <tr>\n",
              "      <th>3</th>\n",
              "      <td>ORD000004</td>\n",
              "      <td>CUST5012</td>\n",
              "      <td>jiomart</td>\n",
              "      <td>2025-08-31 19:29:30</td>\n",
              "      <td>42</td>\n",
              "      <td>beverages</td>\n",
              "      <td>946</td>\n",
              "      <td>Items missing from order.</td>\n",
              "      <td>2</td>\n",
              "      <td>Yes</td>\n",
              "      <td>Yes</td>\n",
              "      <td>19.0</td>\n",
              "      <td>Sunday</td>\n",
              "    </tr>\n",
              "    <tr>\n",
              "      <th>4</th>\n",
              "      <td>ORD000005</td>\n",
              "      <td>CUST4657</td>\n",
              "      <td>blinkit</td>\n",
              "      <td>NaT</td>\n",
              "      <td>30</td>\n",
              "      <td>beverages</td>\n",
              "      <td>334</td>\n",
              "      <td>Fast delivery, great service!</td>\n",
              "      <td>5</td>\n",
              "      <td>No</td>\n",
              "      <td>No</td>\n",
              "      <td>NaN</td>\n",
              "      <td>NaN</td>\n",
              "    </tr>\n",
              "  </tbody>\n",
              "</table>\n",
              "</div>\n",
              "    <div class=\"colab-df-buttons\">\n",
              "\n",
              "  <div class=\"colab-df-container\">\n",
              "    <button class=\"colab-df-convert\" onclick=\"convertToInteractive('df-9283bf85-0bc1-423d-9104-b20e6bcef935')\"\n",
              "            title=\"Convert this dataframe to an interactive table.\"\n",
              "            style=\"display:none;\">\n",
              "\n",
              "  <svg xmlns=\"http://www.w3.org/2000/svg\" height=\"24px\" viewBox=\"0 -960 960 960\">\n",
              "    <path d=\"M120-120v-720h720v720H120Zm60-500h600v-160H180v160Zm220 220h160v-160H400v160Zm0 220h160v-160H400v160ZM180-400h160v-160H180v160Zm440 0h160v-160H620v160ZM180-180h160v-160H180v160Zm440 0h160v-160H620v160Z\"/>\n",
              "  </svg>\n",
              "    </button>\n",
              "\n",
              "  <style>\n",
              "    .colab-df-container {\n",
              "      display:flex;\n",
              "      gap: 12px;\n",
              "    }\n",
              "\n",
              "    .colab-df-convert {\n",
              "      background-color: #E8F0FE;\n",
              "      border: none;\n",
              "      border-radius: 50%;\n",
              "      cursor: pointer;\n",
              "      display: none;\n",
              "      fill: #1967D2;\n",
              "      height: 32px;\n",
              "      padding: 0 0 0 0;\n",
              "      width: 32px;\n",
              "    }\n",
              "\n",
              "    .colab-df-convert:hover {\n",
              "      background-color: #E2EBFA;\n",
              "      box-shadow: 0px 1px 2px rgba(60, 64, 67, 0.3), 0px 1px 3px 1px rgba(60, 64, 67, 0.15);\n",
              "      fill: #174EA6;\n",
              "    }\n",
              "\n",
              "    .colab-df-buttons div {\n",
              "      margin-bottom: 4px;\n",
              "    }\n",
              "\n",
              "    [theme=dark] .colab-df-convert {\n",
              "      background-color: #3B4455;\n",
              "      fill: #D2E3FC;\n",
              "    }\n",
              "\n",
              "    [theme=dark] .colab-df-convert:hover {\n",
              "      background-color: #434B5C;\n",
              "      box-shadow: 0px 1px 3px 1px rgba(0, 0, 0, 0.15);\n",
              "      filter: drop-shadow(0px 1px 2px rgba(0, 0, 0, 0.3));\n",
              "      fill: #FFFFFF;\n",
              "    }\n",
              "  </style>\n",
              "\n",
              "    <script>\n",
              "      const buttonEl =\n",
              "        document.querySelector('#df-9283bf85-0bc1-423d-9104-b20e6bcef935 button.colab-df-convert');\n",
              "      buttonEl.style.display =\n",
              "        google.colab.kernel.accessAllowed ? 'block' : 'none';\n",
              "\n",
              "      async function convertToInteractive(key) {\n",
              "        const element = document.querySelector('#df-9283bf85-0bc1-423d-9104-b20e6bcef935');\n",
              "        const dataTable =\n",
              "          await google.colab.kernel.invokeFunction('convertToInteractive',\n",
              "                                                    [key], {});\n",
              "        if (!dataTable) return;\n",
              "\n",
              "        const docLinkHtml = 'Like what you see? Visit the ' +\n",
              "          '<a target=\"_blank\" href=https://colab.research.google.com/notebooks/data_table.ipynb>data table notebook</a>'\n",
              "          + ' to learn more about interactive tables.';\n",
              "        element.innerHTML = '';\n",
              "        dataTable['output_type'] = 'display_data';\n",
              "        await google.colab.output.renderOutput(dataTable, element);\n",
              "        const docLink = document.createElement('div');\n",
              "        docLink.innerHTML = docLinkHtml;\n",
              "        element.appendChild(docLink);\n",
              "      }\n",
              "    </script>\n",
              "  </div>\n",
              "\n",
              "\n",
              "    <div id=\"df-b2f83d8c-50a4-4bfa-b446-8809a6fa8bd4\">\n",
              "      <button class=\"colab-df-quickchart\" onclick=\"quickchart('df-b2f83d8c-50a4-4bfa-b446-8809a6fa8bd4')\"\n",
              "                title=\"Suggest charts\"\n",
              "                style=\"display:none;\">\n",
              "\n",
              "<svg xmlns=\"http://www.w3.org/2000/svg\" height=\"24px\"viewBox=\"0 0 24 24\"\n",
              "     width=\"24px\">\n",
              "    <g>\n",
              "        <path d=\"M19 3H5c-1.1 0-2 .9-2 2v14c0 1.1.9 2 2 2h14c1.1 0 2-.9 2-2V5c0-1.1-.9-2-2-2zM9 17H7v-7h2v7zm4 0h-2V7h2v10zm4 0h-2v-4h2v4z\"/>\n",
              "    </g>\n",
              "</svg>\n",
              "      </button>\n",
              "\n",
              "<style>\n",
              "  .colab-df-quickchart {\n",
              "      --bg-color: #E8F0FE;\n",
              "      --fill-color: #1967D2;\n",
              "      --hover-bg-color: #E2EBFA;\n",
              "      --hover-fill-color: #174EA6;\n",
              "      --disabled-fill-color: #AAA;\n",
              "      --disabled-bg-color: #DDD;\n",
              "  }\n",
              "\n",
              "  [theme=dark] .colab-df-quickchart {\n",
              "      --bg-color: #3B4455;\n",
              "      --fill-color: #D2E3FC;\n",
              "      --hover-bg-color: #434B5C;\n",
              "      --hover-fill-color: #FFFFFF;\n",
              "      --disabled-bg-color: #3B4455;\n",
              "      --disabled-fill-color: #666;\n",
              "  }\n",
              "\n",
              "  .colab-df-quickchart {\n",
              "    background-color: var(--bg-color);\n",
              "    border: none;\n",
              "    border-radius: 50%;\n",
              "    cursor: pointer;\n",
              "    display: none;\n",
              "    fill: var(--fill-color);\n",
              "    height: 32px;\n",
              "    padding: 0;\n",
              "    width: 32px;\n",
              "  }\n",
              "\n",
              "  .colab-df-quickchart:hover {\n",
              "    background-color: var(--hover-bg-color);\n",
              "    box-shadow: 0 1px 2px rgba(60, 64, 67, 0.3), 0 1px 3px 1px rgba(60, 64, 67, 0.15);\n",
              "    fill: var(--button-hover-fill-color);\n",
              "  }\n",
              "\n",
              "  .colab-df-quickchart-complete:disabled,\n",
              "  .colab-df-quickchart-complete:disabled:hover {\n",
              "    background-color: var(--disabled-bg-color);\n",
              "    fill: var(--disabled-fill-color);\n",
              "    box-shadow: none;\n",
              "  }\n",
              "\n",
              "  .colab-df-spinner {\n",
              "    border: 2px solid var(--fill-color);\n",
              "    border-color: transparent;\n",
              "    border-bottom-color: var(--fill-color);\n",
              "    animation:\n",
              "      spin 1s steps(1) infinite;\n",
              "  }\n",
              "\n",
              "  @keyframes spin {\n",
              "    0% {\n",
              "      border-color: transparent;\n",
              "      border-bottom-color: var(--fill-color);\n",
              "      border-left-color: var(--fill-color);\n",
              "    }\n",
              "    20% {\n",
              "      border-color: transparent;\n",
              "      border-left-color: var(--fill-color);\n",
              "      border-top-color: var(--fill-color);\n",
              "    }\n",
              "    30% {\n",
              "      border-color: transparent;\n",
              "      border-left-color: var(--fill-color);\n",
              "      border-top-color: var(--fill-color);\n",
              "      border-right-color: var(--fill-color);\n",
              "    }\n",
              "    40% {\n",
              "      border-color: transparent;\n",
              "      border-right-color: var(--fill-color);\n",
              "      border-top-color: var(--fill-color);\n",
              "    }\n",
              "    60% {\n",
              "      border-color: transparent;\n",
              "      border-right-color: var(--fill-color);\n",
              "    }\n",
              "    80% {\n",
              "      border-color: transparent;\n",
              "      border-right-color: var(--fill-color);\n",
              "      border-bottom-color: var(--fill-color);\n",
              "    }\n",
              "    90% {\n",
              "      border-color: transparent;\n",
              "      border-bottom-color: var(--fill-color);\n",
              "    }\n",
              "  }\n",
              "</style>\n",
              "\n",
              "      <script>\n",
              "        async function quickchart(key) {\n",
              "          const quickchartButtonEl =\n",
              "            document.querySelector('#' + key + ' button');\n",
              "          quickchartButtonEl.disabled = true;  // To prevent multiple clicks.\n",
              "          quickchartButtonEl.classList.add('colab-df-spinner');\n",
              "          try {\n",
              "            const charts = await google.colab.kernel.invokeFunction(\n",
              "                'suggestCharts', [key], {});\n",
              "          } catch (error) {\n",
              "            console.error('Error during call to suggestCharts:', error);\n",
              "          }\n",
              "          quickchartButtonEl.classList.remove('colab-df-spinner');\n",
              "          quickchartButtonEl.classList.add('colab-df-quickchart-complete');\n",
              "        }\n",
              "        (() => {\n",
              "          let quickchartButtonEl =\n",
              "            document.querySelector('#df-b2f83d8c-50a4-4bfa-b446-8809a6fa8bd4 button');\n",
              "          quickchartButtonEl.style.display =\n",
              "            google.colab.kernel.accessAllowed ? 'block' : 'none';\n",
              "        })();\n",
              "      </script>\n",
              "    </div>\n",
              "\n",
              "    </div>\n",
              "  </div>\n"
            ],
            "application/vnd.google.colaboratory.intrinsic+json": {
              "type": "dataframe",
              "variable_name": "df",
              "summary": "{\n  \"name\": \"df\",\n  \"rows\": 100000,\n  \"fields\": [\n    {\n      \"column\": \"Order ID\",\n      \"properties\": {\n        \"dtype\": \"string\",\n        \"num_unique_values\": 100000,\n        \"samples\": [\n          \"ORD075722\",\n          \"ORD080185\",\n          \"ORD019865\"\n        ],\n        \"semantic_type\": \"\",\n        \"description\": \"\"\n      }\n    },\n    {\n      \"column\": \"Customer ID\",\n      \"properties\": {\n        \"dtype\": \"category\",\n        \"num_unique_values\": 9000,\n        \"samples\": [\n          \"CUST6734\",\n          \"CUST6105\",\n          \"CUST5941\"\n        ],\n        \"semantic_type\": \"\",\n        \"description\": \"\"\n      }\n    },\n    {\n      \"column\": \"Platform\",\n      \"properties\": {\n        \"dtype\": \"category\",\n        \"num_unique_values\": 3,\n        \"samples\": [\n          \"jiomart\",\n          \"blinkit\",\n          \"swiggy instamart\"\n        ],\n        \"semantic_type\": \"\",\n        \"description\": \"\"\n      }\n    },\n    {\n      \"column\": \"Order Date & Time\",\n      \"properties\": {\n        \"dtype\": \"date\",\n        \"min\": \"2025-08-31 00:29:30\",\n        \"max\": \"2025-08-31 23:29:30\",\n        \"num_unique_values\": 24,\n        \"samples\": [\n          \"2025-08-31 20:29:30\",\n          \"2025-08-31 04:29:30\",\n          \"2025-08-31 19:29:30\"\n        ],\n        \"semantic_type\": \"\",\n        \"description\": \"\"\n      }\n    },\n    {\n      \"column\": \"Delivery Time (Minutes)\",\n      \"properties\": {\n        \"dtype\": \"number\",\n        \"std\": 9,\n        \"min\": 5,\n        \"max\": 76,\n        \"num_unique_values\": 69,\n        \"samples\": [\n          24,\n          30,\n          6\n        ],\n        \"semantic_type\": \"\",\n        \"description\": \"\"\n      }\n    },\n    {\n      \"column\": \"Product Category\",\n      \"properties\": {\n        \"dtype\": \"category\",\n        \"num_unique_values\": 6,\n        \"samples\": [\n          \"fruits & vegetables\",\n          \"dairy\",\n          \"snacks\"\n        ],\n        \"semantic_type\": \"\",\n        \"description\": \"\"\n      }\n    },\n    {\n      \"column\": \"Order Value (INR)\",\n      \"properties\": {\n        \"dtype\": \"number\",\n        \"std\": 417,\n        \"min\": 50,\n        \"max\": 2000,\n        \"num_unique_values\": 1951,\n        \"samples\": [\n          1623,\n          798,\n          1997\n        ],\n        \"semantic_type\": \"\",\n        \"description\": \"\"\n      }\n    },\n    {\n      \"column\": \"Customer Feedback\",\n      \"properties\": {\n        \"dtype\": \"category\",\n        \"num_unique_values\": 13,\n        \"samples\": [\n          \"Delivery person was rude.\",\n          \"Not fresh, disappointed.\",\n          \"Fast delivery, great service!\"\n        ],\n        \"semantic_type\": \"\",\n        \"description\": \"\"\n      }\n    },\n    {\n      \"column\": \"Service Rating\",\n      \"properties\": {\n        \"dtype\": \"number\",\n        \"std\": 1,\n        \"min\": 1,\n        \"max\": 5,\n        \"num_unique_values\": 5,\n        \"samples\": [\n          2,\n          3,\n          1\n        ],\n        \"semantic_type\": \"\",\n        \"description\": \"\"\n      }\n    },\n    {\n      \"column\": \"Delivery Delay\",\n      \"properties\": {\n        \"dtype\": \"category\",\n        \"num_unique_values\": 2,\n        \"samples\": [\n          \"Yes\",\n          \"No\"\n        ],\n        \"semantic_type\": \"\",\n        \"description\": \"\"\n      }\n    },\n    {\n      \"column\": \"Refund Requested\",\n      \"properties\": {\n        \"dtype\": \"category\",\n        \"num_unique_values\": 2,\n        \"samples\": [\n          \"Yes\",\n          \"No\"\n        ],\n        \"semantic_type\": \"\",\n        \"description\": \"\"\n      }\n    },\n    {\n      \"column\": \"Order Hour\",\n      \"properties\": {\n        \"dtype\": \"number\",\n        \"std\": 6.951050719662764,\n        \"min\": 0.0,\n        \"max\": 23.0,\n        \"num_unique_values\": 24,\n        \"samples\": [\n          20.0,\n          4.0\n        ],\n        \"semantic_type\": \"\",\n        \"description\": \"\"\n      }\n    },\n    {\n      \"column\": \"Order DayOfWeek\",\n      \"properties\": {\n        \"dtype\": \"category\",\n        \"num_unique_values\": 1,\n        \"samples\": [\n          \"Sunday\"\n        ],\n        \"semantic_type\": \"\",\n        \"description\": \"\"\n      }\n    }\n  ]\n}"
            }
          },
          "metadata": {},
          "execution_count": 35
        }
      ]
    },
    {
      "cell_type": "code",
      "source": [
        "#copy for modeling to avoid changing original data\n",
        "df_model = df.copy()\n",
        "\n",
        "# Convert target to binary (0=No Delay, 1=Delay)\n",
        "df_model['delay_binary'] = (df_model['Delivery Delay'] == 'Yes').astype(int)\n",
        "\n",
        "print(\"Target variable distribution:\")\n",
        "print(df_model['delay_binary'].value_counts())\n",
        "\n",
        "#Summary -\n",
        "#There is less cases of delay as compared to No delay counts"
      ],
      "metadata": {
        "colab": {
          "base_uri": "https://localhost:8080/"
        },
        "id": "jQB4Ipgr4_SA",
        "outputId": "c08ca64f-20d2-4c00-dded-efb44f2e409b"
      },
      "execution_count": 36,
      "outputs": [
        {
          "output_type": "stream",
          "name": "stdout",
          "text": [
            "Target variable distribution:\n",
            "delay_binary\n",
            "0    86328\n",
            "1    13672\n",
            "Name: count, dtype: int64\n"
          ]
        }
      ]
    },
    {
      "cell_type": "code",
      "source": [
        "#Feature Engineering"
      ],
      "metadata": {
        "id": "5LX7mfHr6ps-"
      },
      "execution_count": 37,
      "outputs": []
    },
    {
      "cell_type": "code",
      "source": [
        "# Feature 1: High-value order indicator\n",
        "median_order_value = df_model['Order Value (INR)'].median()\n",
        "df_model['high_value_order'] = (df_model['Order Value (INR)'] > median_order_value).astype(int)\n",
        "\n",
        "print(f\"Median order value: ₹{median_order_value:.2f}\")\n",
        "#count of high-valued orders and the percentage they contribute to total orders\n",
        "print(f\"High-value orders: {df_model['high_value_order'].sum()} ({df_model['high_value_order'].mean()*100:.1f}%)\")\n",
        "\n",
        "#Notes -\n",
        "#Why median and not mean and a threshold value?\n",
        "#Mean cant handle outliers (Suppose a order of 10k would skew the mean significantly)\n",
        "#Threshold - If we assume it be Rs500, then most of the orders would be above it and we wouldnt get the correct distribution\n",
        "#Median gives us 50/50 split of the dataset\n",
        "\n",
        "#Features like delays, refunds and inventory management can be related using the high-valued order metric"
      ],
      "metadata": {
        "colab": {
          "base_uri": "https://localhost:8080/"
        },
        "id": "c-fWJ3Tw61IQ",
        "outputId": "a1d89c35-bc93-46fa-90a3-c5017c613b37"
      },
      "execution_count": 38,
      "outputs": [
        {
          "output_type": "stream",
          "name": "stdout",
          "text": [
            "Median order value: ₹481.00\n",
            "High-value orders: 49933 (49.9%)\n"
          ]
        }
      ]
    },
    {
      "cell_type": "code",
      "source": [
        "#Feature 2: Platform encoding (Assigning number to unique platforms)\n",
        "le_platform =  LabelEncoder() #Creating an instance of the class in a variable\n",
        "\n",
        "#convert platform names to numbers\n",
        "df_model['platform_encoded'] = le_platform.fit_transform(df_model['Platform'])\n",
        "\n",
        "unique_platforms = le_platform.classes_\n",
        "encoded_numbers = le_platform.transform(unique_platforms)\n",
        "platform_mapping = dict(zip(unique_platforms, encoded_numbers))\n",
        "\n",
        "print(f\"Platform encoding: {platform_mapping}\")\n",
        "\n"
      ],
      "metadata": {
        "colab": {
          "base_uri": "https://localhost:8080/"
        },
        "id": "dDEDNiYG9IBC",
        "outputId": "eba46452-2e14-460e-d87c-94bd98bd4667"
      },
      "execution_count": 39,
      "outputs": [
        {
          "output_type": "stream",
          "name": "stdout",
          "text": [
            "Platform encoding: {'blinkit': np.int64(0), 'jiomart': np.int64(1), 'swiggy instamart': np.int64(2)}\n"
          ]
        }
      ]
    },
    {
      "cell_type": "code",
      "source": [
        "#Feature 3: Category encoding\n",
        "\n",
        "le_category = LabelEncoder()\n",
        "df_model['category_encoded'] = le_category.fit_transform(df_model['Product Category'])\n",
        "\n",
        "unique_categories = le_category.classes_\n",
        "encoded_numbers = le_category.transform(unique_categories)\n",
        "platform_mapping = dict(zip(unique_categories, encoded_numbers))\n",
        "\n",
        "print(f\"Category encoding: {platform_mapping}\")"
      ],
      "metadata": {
        "colab": {
          "base_uri": "https://localhost:8080/"
        },
        "id": "Sp3yKhIv_0Vg",
        "outputId": "834b943d-b36d-4fbf-b015-1836259ee196"
      },
      "execution_count": 40,
      "outputs": [
        {
          "output_type": "stream",
          "name": "stdout",
          "text": [
            "Category encoding: {'beverages': np.int64(0), 'dairy': np.int64(1), 'fruits & vegetables': np.int64(2), 'grocery': np.int64(3), 'personal care': np.int64(4), 'snacks': np.int64(5)}\n"
          ]
        }
      ]
    },
    {
      "cell_type": "code",
      "source": [
        "# Feature 4: Order value bins (Low/Medium/High/Premium)\n",
        "df_model['order_value_bin'] = pd.cut(\n",
        "    df_model['Order Value (INR)'],\n",
        "    bins=[0, 200, 400, 600, float('inf')],\n",
        "    labels=['Low', 'Medium', 'High', 'Premium']\n",
        ")\n",
        "\n",
        "print(\"Order value distribution by bin:\")\n",
        "print(df_model['order_value_bin'].value_counts())\n"
      ],
      "metadata": {
        "colab": {
          "base_uri": "https://localhost:8080/"
        },
        "id": "et-Rl4xUAnsj",
        "outputId": "d8c5788c-8cb9-47c2-ec2d-02de51032eea"
      },
      "execution_count": 41,
      "outputs": [
        {
          "output_type": "stream",
          "name": "stdout",
          "text": [
            "Order value distribution by bin:\n",
            "order_value_bin\n",
            "Premium    38523\n",
            "Medium     25233\n",
            "High       21599\n",
            "Low        14645\n",
            "Name: count, dtype: int64\n"
          ]
        }
      ]
    },
    {
      "cell_type": "code",
      "source": [
        "\n",
        "plt.figure(figsize=(4,4))\n",
        "sns.countplot(x='order_value_bin', data=df_model, order=['Low', 'Medium', 'High', 'Premium'])\n",
        "plt.title('Order Value Distribution by Bin')\n",
        "plt.xlabel('Order Value Category')\n",
        "plt.ylabel('Number of Orders')\n",
        "plt.show()\n"
      ],
      "metadata": {
        "colab": {
          "base_uri": "https://localhost:8080/",
          "height": 410
        },
        "id": "NB-UL9OaCA0I",
        "outputId": "5a14e71e-4209-44c8-d862-a98bc9d7e33c"
      },
      "execution_count": 42,
      "outputs": [
        {
          "output_type": "display_data",
          "data": {
            "text/plain": [
              "<Figure size 400x400 with 1 Axes>"
            ],
            "image/png": "[encoded data removed]"
          },
          "metadata": {}
        }
      ]
    },
    {
      "cell_type": "code",
      "source": [
        "#Feature 5:Actual delivery time vs expected delivery time for unique platforms\n",
        "platform_median_time = df_model.groupby('Platform')['Delivery Time (Minutes)'].median()\n",
        "print(platform_median_time)\n",
        "\n",
        "#Map expected deluvery time against each order for the particular platform\n",
        "df_model['expected_delivery_time'] = df_model['Platform'].map(platform_median_time)\n",
        "#print(df_model.head())\n",
        "\n",
        "#We will mark if (actual delivery time > expected) in terms of 0 or 1\n",
        "df_model['delivery_above_expected'] = (df_model['Delivery Time (Minutes)'] > df_model['expected_delivery_time']).astype(int)\n",
        "\n",
        "\n"
      ],
      "metadata": {
        "colab": {
          "base_uri": "https://localhost:8080/"
        },
        "id": "gZ_2jMKwEnXF",
        "outputId": "2d767c43-4fe0-4fa1-fcf5-d4d42d5d7bfa"
      },
      "execution_count": 43,
      "outputs": [
        {
          "output_type": "stream",
          "name": "stdout",
          "text": [
            "Platform\n",
            "blinkit             30.0\n",
            "jiomart             30.0\n",
            "swiggy instamart    29.0\n",
            "Name: Delivery Time (Minutes), dtype: float64\n"
          ]
        }
      ]
    },
    {
      "cell_type": "code",
      "source": [
        "#features to include in the model\n",
        "df_model.head()\n",
        "feature_columns = [\n",
        "\n",
        "    'Delivery Time (Minutes)',\n",
        "    'Order Value (INR)',\n",
        "    'Service Rating',\n",
        "    'platform_encoded',\n",
        "    'category_encoded',\n",
        "    'high_value_order',\n",
        "    'delivery_above_expected'\n",
        "\n",
        "]\n",
        "print(feature_columns)\n",
        "X = df_model[feature_columns]\n",
        "y = df_model['delay_binary']\n",
        "\n",
        "print(f\"Feature matrix shape: {X.shape}\")\n",
        "print(f\"Target distribution: {y.value_counts()}\")\n",
        "\n",
        "# Show feature statistics\n",
        "print(\"\\nFeature statistics:\")\n",
        "print(X.describe().round(2))\n",
        "\n",
        "#Note -\n",
        "#Why we are using column named 'delay_binary' instead of using 'delivery_above_expected'?\n",
        "#because 'delay_binary' is a variable for target/outcome whereas,\n",
        "#'delivery_above_Expected' is a variable with relative to platform's actual delivery time (Feature/Predictor)"
      ],
      "metadata": {
        "colab": {
          "base_uri": "https://localhost:8080/"
        },
        "collapsed": true,
        "id": "qhCwzx_ZFMoT",
        "outputId": "306a087d-b43f-444e-854c-86556a136a61"
      },
      "execution_count": 44,
      "outputs": [
        {
          "output_type": "stream",
          "name": "stdout",
          "text": [
            "['Delivery Time (Minutes)', 'Order Value (INR)', 'Service Rating', 'platform_encoded', 'category_encoded', 'high_value_order', 'delivery_above_expected']\n",
            "Feature matrix shape: (100000, 7)\n",
            "Target distribution: delay_binary\n",
            "0    86328\n",
            "1    13672\n",
            "Name: count, dtype: int64\n",
            "\n",
            "Feature statistics:\n",
            "       Delivery Time (Minutes)  Order Value (INR)  Service Rating  \\\n",
            "count                100000.00          100000.00       100000.00   \n",
            "mean                     29.54             590.99            3.24   \n",
            "std                       9.96             417.41            1.58   \n",
            "min                       5.00              50.00            1.00   \n",
            "25%                      23.00             283.00            2.00   \n",
            "50%                      30.00             481.00            3.00   \n",
            "75%                      36.00             770.00            5.00   \n",
            "max                      76.00            2000.00            5.00   \n",
            "\n",
            "       platform_encoded  category_encoded  high_value_order  \\\n",
            "count         100000.00         100000.00          100000.0   \n",
            "mean               1.00              2.50               0.5   \n",
            "std                0.82              1.71               0.5   \n",
            "min                0.00              0.00               0.0   \n",
            "25%                0.00              1.00               0.0   \n",
            "50%                1.00              2.00               0.0   \n",
            "75%                2.00              4.00               1.0   \n",
            "max                2.00              5.00               1.0   \n",
            "\n",
            "       delivery_above_expected  \n",
            "count                100000.00  \n",
            "mean                      0.47  \n",
            "std                       0.50  \n",
            "min                       0.00  \n",
            "25%                       0.00  \n",
            "50%                       0.00  \n",
            "75%                       1.00  \n",
            "max                       1.00  \n"
          ]
        }
      ]
    },
    {
      "cell_type": "code",
      "source": [
        "#Splitting dataset into training and testing sets"
      ],
      "metadata": {
        "id": "0kMacEsfm3EA"
      },
      "execution_count": 45,
      "outputs": []
    },
    {
      "cell_type": "code",
      "source": [
        "X_train, X_test, y_train, y_test = train_test_split(\n",
        "    X,y,\n",
        "    test_size=0.3,\n",
        "    random_state=42,\n",
        "    stratify=y\n",
        ")\n",
        "\n",
        "print(f\"Training set shape: {X_train.shape}\")\n",
        "print(f\"Testing set shape: {X_test.shape}\")\n",
        "\n",
        "print(f\"Training set: {X_train.shape[0]} samples\")\n",
        "print(f\"Test set: {X_test.shape} samples\")\n",
        "print(f\"Training delay rate: {y_train.mean()*100:.1f}%\") # % of delayed orders in training set\n",
        "print(f\"Test delay rate: {y_test.mean()*100:.1f}%\") # % of delayed orders in testing set\n",
        "\n",
        "#Note -\n",
        "#Stratify: Ensures both training and testing sets have similar delay rates"
      ],
      "metadata": {
        "colab": {
          "base_uri": "https://localhost:8080/"
        },
        "id": "mKH3P9ipZOGj",
        "outputId": "018d12ee-3b47-421a-ebf5-88e8ca05099a"
      },
      "execution_count": 46,
      "outputs": [
        {
          "output_type": "stream",
          "name": "stdout",
          "text": [
            "Training set shape: (70000, 7)\n",
            "Testing set shape: (30000, 7)\n",
            "Training set: 70000 samples\n",
            "Test set: (30000, 7) samples\n",
            "Training delay rate: 13.7%\n",
            "Test delay rate: 13.7%\n"
          ]
        }
      ]
    },
    {
      "cell_type": "code",
      "source": [
        "#Features scaling (Linear Model : Logistic Regression)\n",
        "scaler = StandardScaler()\n",
        "X_train_scaled = scaler.fit_transform(X_train)\n",
        "X_test_scaled = scaler.transform(X_test)\n",
        "print(\"Feature scaling completed\")\n",
        "print(\"Original delivery time range:\", X_train['Delivery Time (Minutes)'].min(), \"to\", X_train['Delivery Time (Minutes)'].max())\n",
        "print(\"Scaled delivery time range:\", X_train_scaled[:, 0].min().round(2), \"to\", X_train_scaled[:, 0].max().round(2))"
      ],
      "metadata": {
        "colab": {
          "base_uri": "https://localhost:8080/"
        },
        "id": "kaLIPIRPVnta",
        "outputId": "f3f0aa32-81f4-46d9-e68d-e252786bc5ee"
      },
      "execution_count": 47,
      "outputs": [
        {
          "output_type": "stream",
          "name": "stdout",
          "text": [
            "Feature scaling completed\n",
            "Original delivery time range: 5 to 76\n",
            "Scaled delivery time range: -2.46 to 4.66\n"
          ]
        }
      ]
    },
    {
      "cell_type": "code",
      "source": [],
      "metadata": {
        "id": "z-BOHTPhi6v6"
      },
      "execution_count": 47,
      "outputs": []
    },
    {
      "cell_type": "markdown",
      "source": [],
      "metadata": {
        "id": "aqkUNKvri6Vb"
      }
    }
  ],
  "metadata": {
    "colab": {
      "provenance": [],
      "mount_file_id": "18S6BvFZ0d61WTGsywFOhcsNolxCCPJzU",
      "authorship_tag": "ABX9TyPOPHLw1o5FRmO0d/TtYp60",
      "include_colab_link": true
    },
    "kernelspec": {
      "display_name": "Python 3",
      "name": "python3"
    },
    "language_info": {
      "name": "python"
    }
  },
  "nbformat": 4,
  "nbformat_minor": 0
}