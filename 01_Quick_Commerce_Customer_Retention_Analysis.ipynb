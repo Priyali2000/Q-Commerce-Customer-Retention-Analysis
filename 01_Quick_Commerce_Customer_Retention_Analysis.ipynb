{
  "nbformat": 4,
  "nbformat_minor": 0,
  "metadata": {
    "colab": {
      "provenance": [],
      "authorship_tag": "ABX9TyP1+u4TPuXYfCWjHuMM4ECz",
      "include_colab_link": true
    },
    "kernelspec": {
      "name": "python3",
      "display_name": "Python 3"
    },
    "language_info": {
      "name": "python"
    }
  },
  "cells": [
    {
      "cell_type": "markdown",
      "metadata": {
        "id": "view-in-github",
        "colab_type": "text"
      },
      "source": [
        "<a href=\"https://colab.research.google.com/github/Priyali2000/Q-Commerce-Customer-Retention-Analysis/blob/main/01_Quick_Commerce_Customer_Retention_Analysis.ipynb\" target=\"_parent\"><img src=\"https://colab.research.google.com/assets/colab-badge.svg\" alt=\"Open In Colab\"/></a>"
      ]
    },
    {
      "cell_type": "code",
      "execution_count": null,
      "metadata": {
        "id": "wG4fzvxCJj8d"
      },
      "outputs": [],
      "source": []
    }
  ]
}